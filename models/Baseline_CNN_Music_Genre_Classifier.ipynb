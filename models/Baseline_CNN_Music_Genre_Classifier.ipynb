{
 "cells": [
  {
   "cell_type": "markdown",
   "metadata": {},
   "source": [
    "This script implements a simple baseline-CNN model for the Music Genre Classification task."
   ]
  },
  {
   "cell_type": "code",
   "execution_count": 1,
   "metadata": {},
   "outputs": [
    {
     "name": "stderr",
     "output_type": "stream",
     "text": [
      "WARNING: Logging before flag parsing goes to stderr.\n",
      "W1212 18:59:59.171320 139817765734144 __init__.py:321] Limited tf.compat.v2.summary API due to missing TensorBoard installation.\n",
      "W1212 18:59:59.200444 139817765734144 __init__.py:321] Limited tf.compat.v2.summary API due to missing TensorBoard installation.\n",
      "W1212 18:59:59.221055 139817765734144 __init__.py:352] Limited tf.summary API due to missing TensorBoard installation.\n"
     ]
    }
   ],
   "source": [
    "# System/zip-handling imports\n",
    "import os, sys\n",
    "import zipfile\n",
    "\n",
    "# Imports tensorflow\n",
    "import tensorflow as tf\n",
    "from tensorflow.keras import datasets, layers, models, regularizers\n",
    "\n",
    "# Imports image handling\n",
    "import cv2\n",
    "import numpy as np\n",
    "import skimage\n",
    "\n",
    "# For generating training and test data\n",
    "import random\n",
    "\n",
    "# Save training progress\n",
    "import csv\n",
    "from datetime import datetime\n",
    "from shutil import copyfile  # Making copy of this file instance (including param settings used)"
   ]
  },
  {
   "cell_type": "markdown",
   "metadata": {},
   "source": [
    "Get a feeling for the nature of the training and evaluation data:"
   ]
  },
  {
   "cell_type": "code",
   "execution_count": 2,
   "metadata": {},
   "outputs": [
    {
     "name": "stdout",
     "output_type": "stream",
     "text": [
      "Type of image:\n",
      "<class 'numpy.ndarray'>\n",
      "Dimension of a single image file:\n",
      "(128, 128, 3)\n"
     ]
    }
   ],
   "source": [
    "# Get access to zip-archive\n",
    "archive = zipfile.ZipFile('../data/spectrograms.zip', 'r')\n",
    "imgdata = archive.read('spectrograms/spectrogram_0000.png')\n",
    "\n",
    "# Interpret image-data as image\n",
    "image = cv2.imdecode(np.frombuffer(imgdata, dtype=np.uint8), 1)\n",
    "\n",
    "# Show image visually (press any key in opening window in order to proceed in code...)\n",
    "cv2.imshow(\"Image\", image)\n",
    "cv2.waitKey(0)\n",
    "cv2.destroyAllWindows()\n",
    "\n",
    "# Print some data specs\n",
    "print('Type of image:')\n",
    "print(type(image))\n",
    "print('Dimension of a single image file:')\n",
    "print(image.shape)"
   ]
  },
  {
   "cell_type": "markdown",
   "metadata": {},
   "source": [
    "Check whether data files are read in in ascending order: otherwise, labels don't match data!!!"
   ]
  },
  {
   "cell_type": "code",
   "execution_count": 2,
   "metadata": {},
   "outputs": [
    {
     "name": "stdout",
     "output_type": "stream",
     "text": [
      "['spectrograms', 'spectrogram', '0000', 'png']\n",
      "0000\n",
      "0\n",
      "----------------------------------------------\n",
      "No problems detected. Data read in in correct order. Safe to proceed.\n"
     ]
    }
   ],
   "source": [
    "# Read in zip-archive\n",
    "archive = zipfile.ZipFile('../data/spectrograms.zip', 'r')\n",
    "\n",
    "# For manual checking whether proper string part is retrieved\n",
    "print(archive.namelist()[1].replace('.', '_').replace('/', '_').split('_'))\n",
    "print(archive.namelist()[1].replace('.', '_').replace('/', '_').split('_')[-2])\n",
    "print(int(archive.namelist()[1].replace('.', '_').replace('/', '_').split('_')[-2]))\n",
    "print('----------------------------------------------')\n",
    "\n",
    "# Get first number from first file name\n",
    "num = int(archive.namelist()[1].replace('.', '_').replace('/', '_').split('_')[-2])\n",
    "\n",
    "# Iterate through file names and check whether they are ordered in ascending order\n",
    "offset = 2\n",
    "for i, f_name in enumerate(archive.namelist()[offset:]):\n",
    "    nxt = int(archive.namelist()[i+offset].replace('.', '_').replace('/', '_').split('_')[-2])\n",
    "    if nxt <= num:\n",
    "        print(f_name)\n",
    "        raise Exception('DATA IS NOT ORDERED IN ASCENDING ORDER! DATA DOESN\\'T MATCH LABELS!')\n",
    "    num = nxt\n",
    "    \n",
    "print('No problems detected. Data read in in correct order. Safe to proceed.')"
   ]
  },
  {
   "cell_type": "markdown",
   "metadata": {},
   "source": [
    "Read in training and testing data:"
   ]
  },
  {
   "cell_type": "code",
   "execution_count": 3,
   "metadata": {},
   "outputs": [
    {
     "name": "stdout",
     "output_type": "stream",
     "text": [
      "Done reading in... Shape of data array:\n",
      "(1000, 128, 128)\n"
     ]
    }
   ],
   "source": [
    "archive = zipfile.ZipFile('../data/spectrograms.zip', 'r')\n",
    "\n",
    "#print(archive.namelist())\n",
    "\n",
    "data_set = []\n",
    "# Data storage\n",
    "combined_data = np.empty([1, 128, 128])\n",
    "\n",
    "# Read in images & store processed instances\n",
    "for f_name in archive.namelist()[1:]:\n",
    "    # Get image data from zip file\n",
    "    zip_img_data = archive.read(f_name)\n",
    "    image = cv2.imdecode(np.frombuffer(zip_img_data, dtype=np.uint8), 1)\n",
    "    \n",
    "    # Normalize image's colors to range [0, 1]\n",
    "    image = image / 255.0\n",
    "\n",
    "    #cv2.imshow(\"Normalized Image\", image)\n",
    "    #cv2.waitKey(0)\n",
    "\n",
    "    # Grayscale image\n",
    "    gray_image = skimage.color.rgb2gray(image)\n",
    "\n",
    "    #cv2.imshow(\"Grayscale Image\", gray_image)\n",
    "    #cv2.waitKey(0)\n",
    "    #cv2.destroyAllWindows()\n",
    "\n",
    "    # Store grayscaled image\n",
    "    combined_data = np.append(combined_data, [gray_image], axis=0)\n",
    "    \n",
    "# Remove initial, empty datapoint\n",
    "combined_data = combined_data[1:, :, :]\n",
    "\n",
    "print('Done reading in... Shape of data array:')\n",
    "print(combined_data.shape)"
   ]
  },
  {
   "cell_type": "markdown",
   "metadata": {},
   "source": [
    "Read in labels"
   ]
  },
  {
   "cell_type": "code",
   "execution_count": 4,
   "metadata": {},
   "outputs": [
    {
     "name": "stdout",
     "output_type": "stream",
     "text": [
      "[0. 0. 0. 0. 0. 0. 0. 0. 0. 0. 0. 0. 0. 0. 0. 0. 0. 0. 0. 0. 0. 0. 0. 0.\n",
      " 0. 0. 0. 0. 0. 0. 0. 0. 0. 0. 0. 0. 0. 0. 0. 0. 0. 0. 0. 0. 0. 0. 0. 0.\n",
      " 0. 0. 0. 0. 0. 0. 0. 0. 0. 0. 0. 0. 0. 0. 0. 0. 0. 0. 0. 0. 0. 0. 0. 0.\n",
      " 0. 0. 0. 0. 0. 0. 0. 0. 0. 0. 0. 0. 0. 0. 0. 0. 0. 0. 0. 0. 0. 0. 0. 0.\n",
      " 0. 0. 0. 0. 1. 1. 1. 1. 1. 1. 1. 1. 1. 1. 1. 1. 1. 1. 1. 1. 1. 1. 1. 1.\n",
      " 1. 1. 1. 1. 1. 1. 1. 1. 1. 1. 1. 1. 1. 1. 1. 1. 1. 1. 1. 1. 1. 1. 1. 1.\n",
      " 1. 1. 1. 1. 1. 1. 1. 1. 1. 1. 1. 1. 1. 1. 1. 1. 1. 1. 1. 1. 1. 1. 1. 1.\n",
      " 1. 1. 1. 1. 1. 1. 1. 1. 1. 1. 1. 1. 1. 1. 1. 1. 1. 1. 1. 1. 1. 1. 1. 1.\n",
      " 1. 1. 1. 1. 1. 1. 1. 1. 2. 2. 2. 2. 2. 2. 2. 2. 2. 2. 2. 2. 2. 2. 2. 2.\n",
      " 2. 2. 2. 2. 2. 2. 2. 2. 2. 2. 2. 2. 2. 2. 2. 2. 2. 2. 2. 2. 2. 2. 2. 2.\n",
      " 2. 2. 2. 2. 2. 2. 2. 2. 2. 2. 2. 2. 2. 2. 2. 2. 2. 2. 2. 2. 2. 2. 2. 2.\n",
      " 2. 2. 2. 2. 2. 2. 2. 2. 2. 2. 2. 2. 2. 2. 2. 2. 2. 2. 2. 2. 2. 2. 2. 2.\n",
      " 2. 2. 2. 2. 2. 2. 2. 2. 2. 2. 2. 2. 3. 3. 3. 3. 3. 3. 3. 3. 3. 3. 3. 3.\n",
      " 3. 3. 3. 3. 3. 3. 3. 3. 3. 3. 3. 3. 3. 3. 3. 3. 3. 3. 3. 3. 3. 3. 3. 3.\n",
      " 3. 3. 3. 3. 3. 3. 3. 3. 3. 3. 3. 3. 3. 3. 3. 3. 3. 3. 3. 3. 3. 3. 3. 3.\n",
      " 3. 3. 3. 3. 3. 3. 3. 3. 3. 3. 3. 3. 3. 3. 3. 3. 3. 3. 3. 3. 3. 3. 3. 3.\n",
      " 3. 3. 3. 3. 3. 3. 3. 3. 3. 3. 3. 3. 3. 3. 3. 3. 4. 4. 4. 4. 4. 4. 4. 4.\n",
      " 4. 4. 4. 4. 4. 4. 4. 4. 4. 4. 4. 4. 4. 4. 4. 4. 4. 4. 4. 4. 4. 4. 4. 4.\n",
      " 4. 4. 4. 4. 4. 4. 4. 4. 4. 4. 4. 4. 4. 4. 4. 4. 4. 4. 4. 4. 4. 4. 4. 4.\n",
      " 4. 4. 4. 4. 4. 4. 4. 4. 4. 4. 4. 4. 4. 4. 4. 4. 4. 4. 4. 4. 4. 4. 4. 4.\n",
      " 4. 4. 4. 4. 4. 4. 4. 4. 4. 4. 4. 4. 4. 4. 4. 4. 4. 4. 4. 4. 5. 5. 5. 5.\n",
      " 5. 5. 5. 5. 5. 5. 5. 5. 5. 5. 5. 5. 5. 5. 5. 5. 5. 5. 5. 5. 5. 5. 5. 5.\n",
      " 5. 5. 5. 5. 5. 5. 5. 5. 5. 5. 5. 5. 5. 5. 5. 5. 5. 5. 5. 5. 5. 5. 5. 5.\n",
      " 5. 5. 5. 5. 5. 5. 5. 5. 5. 5. 5. 5. 5. 5. 5. 5. 5. 5. 5. 5. 5. 5. 5. 5.\n",
      " 5. 5. 5. 5. 5. 5. 5. 5. 5. 5. 5. 5. 5. 5. 5. 5. 5. 5. 5. 5. 5. 5. 5. 5.\n",
      " 6. 6. 6. 6. 6. 6. 6. 6. 6. 6. 6. 6. 6. 6. 6. 6. 6. 6. 6. 6. 6. 6. 6. 6.\n",
      " 6. 6. 6. 6. 6. 6. 6. 6. 6. 6. 6. 6. 6. 6. 6. 6. 6. 6. 6. 6. 6. 6. 6. 6.\n",
      " 6. 6. 6. 6. 6. 6. 6. 6. 6. 6. 6. 6. 6. 6. 6. 6. 6. 6. 6. 6. 6. 6. 6. 6.\n",
      " 6. 6. 6. 6. 6. 6. 6. 6. 6. 6. 6. 6. 6. 6. 6. 6. 6. 6. 6. 6. 6. 6. 6. 6.\n",
      " 6. 6. 6. 6. 7. 7. 7. 7. 7. 7. 7. 7. 7. 7. 7. 7. 7. 7. 7. 7. 7. 7. 7. 7.\n",
      " 7. 7. 7. 7. 7. 7. 7. 7. 7. 7. 7. 7. 7. 7. 7. 7. 7. 7. 7. 7. 7. 7. 7. 7.\n",
      " 7. 7. 7. 7. 7. 7. 7. 7. 7. 7. 7. 7. 7. 7. 7. 7. 7. 7. 7. 7. 7. 7. 7. 7.\n",
      " 7. 7. 7. 7. 7. 7. 7. 7. 7. 7. 7. 7. 7. 7. 7. 7. 7. 7. 7. 7. 7. 7. 7. 7.\n",
      " 7. 7. 7. 7. 7. 7. 7. 7. 8. 8. 8. 8. 8. 8. 8. 8. 8. 8. 8. 8. 8. 8. 8. 8.\n",
      " 8. 8. 8. 8. 8. 8. 8. 8. 8. 8. 8. 8. 8. 8. 8. 8. 8. 8. 8. 8. 8. 8. 8. 8.\n",
      " 8. 8. 8. 8. 8. 8. 8. 8. 8. 8. 8. 8. 8. 8. 8. 8. 8. 8. 8. 8. 8. 8. 8. 8.\n",
      " 8. 8. 8. 8. 8. 8. 8. 8. 8. 8. 8. 8. 8. 8. 8. 8. 8. 8. 8. 8. 8. 8. 8. 8.\n",
      " 8. 8. 8. 8. 8. 8. 8. 8. 8. 8. 8. 8. 9. 9. 9. 9. 9. 9. 9. 9. 9. 9. 9. 9.\n",
      " 9. 9. 9. 9. 9. 9. 9. 9. 9. 9. 9. 9. 9. 9. 9. 9. 9. 9. 9. 9. 9. 9. 9. 9.\n",
      " 9. 9. 9. 9. 9. 9. 9. 9. 9. 9. 9. 9. 9. 9. 9. 9. 9. 9. 9. 9. 9. 9. 9. 9.\n",
      " 9. 9. 9. 9. 9. 9. 9. 9. 9. 9. 9. 9. 9. 9. 9. 9. 9. 9. 9. 9. 9. 9. 9. 9.\n",
      " 9. 9. 9. 9. 9. 9. 9. 9. 9. 9. 9. 9. 9. 9. 9. 9.]\n"
     ]
    }
   ],
   "source": [
    "# Read in labels\n",
    "labels_path = '../data/labels.txt'\n",
    "\n",
    "combined_labels = np.empty([1])\n",
    "\n",
    "with open(labels_path, 'r') as file:\n",
    "    #file.readline() # skip the first line\n",
    "    #labels = [int(line) for line in file]\n",
    "    for line in file:\n",
    "        combined_labels = np.append(combined_labels, [int(line)])\n",
    "\n",
    "# Remove initial, empty datapoint\n",
    "combined_labels = combined_labels[1:] \n",
    "print(combined_labels)"
   ]
  },
  {
   "cell_type": "markdown",
   "metadata": {},
   "source": [
    "Divide data into train and test data.\n",
    "\n",
    "------------------------------------------------------\n",
    "Training data will be contained in:    training_data\n",
    "Tetsing  data will be contained in:    testing_data\n",
    "\n",
    "Training labels will be contained in:  training_labels\n",
    "Tetsing  labels will be contained in:  testing_labels"
   ]
  },
  {
   "cell_type": "code",
   "execution_count": 5,
   "metadata": {},
   "outputs": [
    {
     "name": "stdout",
     "output_type": "stream",
     "text": [
      "Nr. test indices: 200\n",
      "Test indices: [0, 1, 6, 9, 14, 15, 21, 25, 31, 38, 40, 51, 52, 55, 72, 75, 76, 78, 87, 94, 110, 115, 116, 141, 147, 148, 150, 160, 166, 167, 169, 174, 178, 183, 184, 187, 195, 200, 206, 215, 223, 236, 240, 244, 246, 249, 250, 255, 258, 265, 269, 280, 282, 286, 287, 293, 296, 300, 302, 307, 319, 324, 327, 330, 335, 342, 348, 352, 362, 369, 377, 381, 382, 386, 402, 405, 410, 411, 414, 415, 420, 422, 427, 434, 436, 440, 449, 458, 465, 477, 478, 483, 488, 491, 496, 507, 524, 525, 530, 539, 551, 552, 553, 554, 562, 564, 566, 572, 585, 593, 594, 596, 600, 603, 612, 614, 623, 624, 631, 632, 641, 643, 645, 646, 651, 652, 653, 654, 657, 658, 659, 661, 671, 676, 685, 688, 689, 692, 711, 713, 731, 733, 746, 747, 750, 752, 754, 756, 760, 764, 769, 772, 782, 792, 793, 797, 808, 820, 822, 826, 838, 842, 847, 852, 856, 859, 860, 866, 877, 886, 888, 889, 890, 892, 895, 898, 901, 903, 904, 910, 914, 927, 928, 929, 931, 940, 942, 943, 945, 947, 949, 951, 953, 954, 957, 965, 981, 983, 989, 997]\n",
      "Final:\n",
      "(800, 128, 128, 1)\n",
      "(800,)\n",
      "(200, 128, 128, 1)\n",
      "(200,)\n"
     ]
    }
   ],
   "source": [
    "# Divide data into train and test data\n",
    "\n",
    "# Get set of test-indices which indicates the training data points that have to be reserved for training\n",
    "percentage_test_data = 0.2\n",
    "population = range(len(combined_labels))\n",
    "nr_samples = int(percentage_test_data * len(combined_labels))\n",
    "\n",
    "test_indices = random.sample(population, nr_samples)\n",
    "test_indices = sorted(test_indices)\n",
    "\n",
    "print('Nr. test indices: ' + str(len(test_indices)))\n",
    "print('Test indices: ' + str(test_indices))\n",
    "\n",
    "\n",
    "# Split data into training- and test data, respectively - Preparation: Create empty arrays to contain data\n",
    "test_len = len(test_indices)\n",
    "train_len = len(combined_labels)-len(test_indices)\n",
    "training_data, training_labels = np.empty([train_len, 128, 128]), np.empty([train_len])\n",
    "testing_data, testing_labels = np.empty([test_len, 128, 128]), np.empty([test_len])\n",
    "\n",
    "test_idx_list_idx = 0\n",
    "i = 0\n",
    "\n",
    "# Iterate through all data and assign each data point either to training data or testing data\n",
    "for data_idx in range(len(combined_labels)):\n",
    "\n",
    "    if test_idx_list_idx < nr_samples and data_idx == test_indices[test_idx_list_idx]:\n",
    "        testing_data[test_idx_list_idx, :, :] = combined_data[data_idx, :, :]\n",
    "        testing_labels[test_idx_list_idx] = combined_labels[data_idx]\n",
    "        test_idx_list_idx += 1\n",
    "        \n",
    "    else:\n",
    "        \n",
    "        training_data[i, :, :] = combined_data[data_idx, :, :]\n",
    "        training_labels[i] = combined_labels[data_idx]\n",
    "        i += 1\n",
    "        \n",
    "\n",
    "training_data = training_data.reshape([len(training_labels), 128, 128, 1])\n",
    "\n",
    "testing_data = testing_data.reshape([len(testing_labels), 128, 128, 1])\n",
    "        \n",
    "print('Final:')\n",
    "print(training_data.shape)\n",
    "print(training_labels.shape)\n",
    "print(testing_data.shape)\n",
    "print(testing_labels.shape)\n"
   ]
  },
  {
   "cell_type": "markdown",
   "metadata": {},
   "source": [
    "Set up the CNN architecture"
   ]
  },
  {
   "cell_type": "code",
   "execution_count": 6,
   "metadata": {},
   "outputs": [
    {
     "name": "stdout",
     "output_type": "stream",
     "text": [
      "Model: \"sequential\"\n",
      "_________________________________________________________________\n",
      "Layer (type)                 Output Shape              Param #   \n",
      "=================================================================\n",
      "conv2d (Conv2D)              (None, 126, 126, 64)      640       \n",
      "_________________________________________________________________\n",
      "dropout (Dropout)            (None, 126, 126, 64)      0         \n",
      "_________________________________________________________________\n",
      "max_pooling2d (MaxPooling2D) (None, 63, 63, 64)        0         \n",
      "_________________________________________________________________\n",
      "conv2d_1 (Conv2D)            (None, 61, 61, 128)       73856     \n",
      "_________________________________________________________________\n",
      "dropout_1 (Dropout)          (None, 61, 61, 128)       0         \n",
      "_________________________________________________________________\n",
      "max_pooling2d_1 (MaxPooling2 (None, 30, 30, 128)       0         \n",
      "_________________________________________________________________\n",
      "dropout_2 (Dropout)          (None, 30, 30, 128)       0         \n",
      "_________________________________________________________________\n",
      "flatten (Flatten)            (None, 115200)            0         \n",
      "_________________________________________________________________\n",
      "dense (Dense)                (None, 512)               58982912  \n",
      "_________________________________________________________________\n",
      "dropout_3 (Dropout)          (None, 512)               0         \n",
      "_________________________________________________________________\n",
      "dense_1 (Dense)              (None, 10)                5130      \n",
      "=================================================================\n",
      "Total params: 59,062,538\n",
      "Trainable params: 59,062,538\n",
      "Non-trainable params: 0\n",
      "_________________________________________________________________\n"
     ]
    }
   ],
   "source": [
    "# Set up model\n",
    "\n",
    "# Reset tf sessions...\n",
    "tf.keras.backend.clear_session()  # Destroys the current TF graph and creates a new one.\n",
    "\n",
    "dimensions = 128\n",
    "classes = 10\n",
    "\n",
    "# Set up model architecture in terms of its layers\n",
    "model = models.Sequential()\n",
    "model.add(layers.Conv2D(64, (3, 3), activation='relu', input_shape=(dimensions, dimensions, 1),\n",
    "                        kernel_regularizer=regularizers.l2(0.1)))\n",
    "model.add(layers.Dropout(0.1))\n",
    "model.add(layers.MaxPooling2D((2, 2)))\n",
    "model.add(layers.Conv2D(128, (3, 3), activation='relu', kernel_regularizer=regularizers.l2(0.1)))\n",
    "model.add(layers.Dropout(0.1))\n",
    "model.add(layers.MaxPooling2D((2, 2)))\n",
    "model.add(layers.Dropout(0.2))\n",
    "model.add(layers.Flatten())\n",
    "model.add(layers.Dense(512, activation='relu', kernel_regularizer=regularizers.l2(1.0)))\n",
    "model.add(layers.Dropout(0.2))\n",
    "model.add(layers.Dense(classes, activation='softmax'))\n",
    "\n",
    "# Note on regularizer(s), copied from https://www.tensorflow.org/tutorials/keras/overfit_and_underfit:\n",
    "# l2(0.001) means that every coefficient in the weight matrix of the layer will add 0.001 * weight_coefficient_value**2\n",
    "# to the total loss of the network.\n",
    "\n",
    "# Print summary\n",
    "model.summary()\n",
    "\n",
    "# Compile model & make some design choices\n",
    "model.compile(optimizer=tf.optimizers.Adam(learning_rate=0.0001,\n",
    "                                           beta_1=0.9,\n",
    "                                           beta_2=0.999,\n",
    "                                           epsilon=1e-07,\n",
    "                                           amsgrad=False,\n",
    "                                           name='Adam'\n",
    "                                           ),\n",
    "              loss='sparse_categorical_crossentropy',  # Capable of working with regularization\n",
    "              metrics=['accuracy', 'sparse_categorical_crossentropy'])"
   ]
  },
  {
   "cell_type": "markdown",
   "metadata": {},
   "source": [
    "Start training process:\n",
    "    Run X times 1 training (tensorflow-)epoch and save a model as checkpoint in between. \n",
    "    Bit hacky solution, yet, but can be prettyfied.\n",
    "    \n",
    "IMPORTANT: 'accuracy'     == accuracy achieved during training on training data;  * the UN-important measure\n",
    "           'val_accuracy' == accuracy achieved on TEST data AFTER training epoch; * the important measure"
   ]
  },
  {
   "cell_type": "code",
   "execution_count": null,
   "metadata": {},
   "outputs": [
    {
     "name": "stdout",
     "output_type": "stream",
     "text": [
      "Completed epochs so far: 0\n",
      "Train on 800 samples, validate on 200 samples\n",
      "Epoch 1/10\n"
     ]
    },
    {
     "name": "stderr",
     "output_type": "stream",
     "text": [
      "W1212 19:01:45.854273 139817765734144 __init__.py:321] Limited tf.compat.v2.summary API due to missing TensorBoard installation.\n"
     ]
    },
    {
     "name": "stdout",
     "output_type": "stream",
     "text": [
      "800/800 [==============================] - 44s 55ms/sample - loss: 633.0831 - accuracy: 0.1187 - sparse_categorical_crossentropy: 2.3033 - val_loss: 315.3346 - val_accuracy: 0.2000 - val_sparse_categorical_crossentropy: 2.2884\n",
      "Epoch 2/10\n",
      "256/800 [========>.....................] - ETA: 1:52 - loss: 263.1791 - accuracy: 0.1055 - sparse_categorical_crossentropy: 2.2954"
     ]
    }
   ],
   "source": [
    "# Set up folder for data gathering during training process\n",
    "now = datetime.now()\n",
    "TIME_STAMP = now.strftime(\"_%Y_%d_%m__%H_%M_%S__%f\")\n",
    "MODEL_ID = 'Model_' + TIME_STAMP + '/'\n",
    "path = 'TrainingRun/' + MODEL_ID\n",
    "\n",
    "if not os.path.exists(path):\n",
    "    os.makedirs(path)\n",
    "\n",
    "# Set up documentation (csv doc) of training progress\n",
    "with open(path+'training_progress.csv', 'a', newline='') as file:\n",
    "    writer = csv.writer(file)\n",
    "    writer.writerow([\"epoch\", \"loss\", \"accuracy\", \"val_loss\", \"val_accuracy\", \"sparse_categorical_crossentropy\"])\n",
    "    file.close()\n",
    "\n",
    "\n",
    "# Save initial model - For preventing memory leaks\n",
    "name = 'cnn_model_0_acc_0'\n",
    "model.save(path+name+'.h5')\n",
    "\n",
    "# Run training\n",
    "repetitions = 10    # How many repetitions of given nr of epochs\n",
    "eps = 10            # tf-Epochs\n",
    "accuracy = 0\n",
    "min_acc = 0.85\n",
    "\n",
    "for i in range(repetitions):\n",
    "    # Live terminal update\n",
    "    print('Completed epochs so far: ' + str(i*eps))\n",
    "    \n",
    "    # Prevent memory leakage\n",
    "    tf.keras.backend.clear_session()  # Destroys the current TF graph and creates a new one.\n",
    "    model = tf.keras.models.load_model(path+name+'.h5')  # Reload model\n",
    "\n",
    "    # Perform x epochs of training\n",
    "    history = model.fit(training_data, training_labels,\n",
    "                        epochs=eps,\n",
    "                        validation_data=(testing_data, testing_labels))\n",
    "    \n",
    "    # Get string representation of performed number of training epochs & new model name\n",
    "    epoch = str((i+1)*eps)\n",
    "    name = 'cnn_model_'+epoch+'_acc_'+str(history.history['val_accuracy'])\n",
    "    \n",
    "    # Save the entire model as a checkpoint and/or final model to a HDF5 file.\n",
    "    model.save(path+name+'.h5')\n",
    "    \n",
    "    # Record training progress\n",
    "    with open(path+'training_progress.csv', 'a', newline='') as file:\n",
    "        writer = csv.writer(file)\n",
    "        writer.writerow([epoch,\n",
    "                         history.history[\"loss\"][0], \n",
    "                         history.history[\"accuracy\"][0], \n",
    "                         history.history[\"val_loss\"][0], \n",
    "                         history.history[\"val_accuracy\"][0],\n",
    "                         history.history[\"sparse_categorical_crossentropy\"][0]\n",
    "                         ])\n",
    "        file.close()\n",
    "\n",
    "    if accuracy >= min_acc and history.history['val_accuracy'][0] < accuracy:\n",
    "        # Drop in accuracy on evaluation data. Overfitting?\n",
    "        break\n",
    "    else:\n",
    "        accuracy = history.history['val_accuracy'][0]\n",
    "print('Done.')"
   ]
  }
 ],
 "metadata": {
  "kernelspec": {
   "display_name": "Python 3",
   "language": "python",
   "name": "python3"
  },
  "language_info": {
   "codemirror_mode": {
    "name": "ipython",
    "version": 3
   },
   "file_extension": ".py",
   "mimetype": "text/x-python",
   "name": "python",
   "nbconvert_exporter": "python",
   "pygments_lexer": "ipython3",
   "version": "3.5.2"
  }
 },
 "nbformat": 4,
 "nbformat_minor": 2
}
