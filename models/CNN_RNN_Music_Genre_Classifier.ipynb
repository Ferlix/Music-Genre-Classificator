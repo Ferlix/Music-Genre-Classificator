{
 "cells": [
  {
   "cell_type": "markdown",
   "metadata": {
    "colab_type": "text",
    "id": "VTGLItxRlUVd"
   },
   "source": [
    "# This script implements a simple baseline-CNN model for the Music Genre Classification task."
   ]
  },
  {
   "cell_type": "code",
   "execution_count": 0,
   "metadata": {
    "colab": {
     "base_uri": "https://localhost:8080/",
     "height": 1000
    },
    "colab_type": "code",
    "id": "lGu0u2-KleH_",
    "outputId": "520152ef-08a2-426a-aa36-59cd01985c6c"
   },
   "outputs": [
    {
     "name": "stdout",
     "output_type": "stream",
     "text": [
      "Collecting tensorflow\n",
      "\u001b[?25l  Downloading https://files.pythonhosted.org/packages/46/0f/7bd55361168bb32796b360ad15a25de6966c9c1beb58a8e30c01c8279862/tensorflow-2.0.0-cp36-cp36m-manylinux2010_x86_64.whl (86.3MB)\n",
      "\u001b[K     |████████████████████████████████| 86.3MB 49kB/s \n",
      "\u001b[?25hRequirement already satisfied, skipping upgrade: absl-py>=0.7.0 in /usr/local/lib/python3.6/dist-packages (from tensorflow) (0.8.1)\n",
      "Requirement already satisfied, skipping upgrade: gast==0.2.2 in /usr/local/lib/python3.6/dist-packages (from tensorflow) (0.2.2)\n",
      "Collecting tensorflow-estimator<2.1.0,>=2.0.0\n",
      "\u001b[?25l  Downloading https://files.pythonhosted.org/packages/fc/08/8b927337b7019c374719145d1dceba21a8bb909b93b1ad6f8fb7d22c1ca1/tensorflow_estimator-2.0.1-py2.py3-none-any.whl (449kB)\n",
      "\u001b[K     |████████████████████████████████| 450kB 42.5MB/s \n",
      "\u001b[?25hRequirement already satisfied, skipping upgrade: wrapt>=1.11.1 in /usr/local/lib/python3.6/dist-packages (from tensorflow) (1.11.2)\n",
      "Requirement already satisfied, skipping upgrade: wheel>=0.26 in /usr/local/lib/python3.6/dist-packages (from tensorflow) (0.33.6)\n",
      "Requirement already satisfied, skipping upgrade: protobuf>=3.6.1 in /usr/local/lib/python3.6/dist-packages (from tensorflow) (3.10.0)\n",
      "Requirement already satisfied, skipping upgrade: google-pasta>=0.1.6 in /usr/local/lib/python3.6/dist-packages (from tensorflow) (0.1.8)\n",
      "Requirement already satisfied, skipping upgrade: grpcio>=1.8.6 in /usr/local/lib/python3.6/dist-packages (from tensorflow) (1.15.0)\n",
      "Collecting tensorboard<2.1.0,>=2.0.0\n",
      "\u001b[?25l  Downloading https://files.pythonhosted.org/packages/76/54/99b9d5d52d5cb732f099baaaf7740403e83fe6b0cedde940fabd2b13d75a/tensorboard-2.0.2-py3-none-any.whl (3.8MB)\n",
      "\u001b[K     |████████████████████████████████| 3.8MB 32.1MB/s \n",
      "\u001b[?25hRequirement already satisfied, skipping upgrade: six>=1.10.0 in /usr/local/lib/python3.6/dist-packages (from tensorflow) (1.12.0)\n",
      "Requirement already satisfied, skipping upgrade: termcolor>=1.1.0 in /usr/local/lib/python3.6/dist-packages (from tensorflow) (1.1.0)\n",
      "Requirement already satisfied, skipping upgrade: opt-einsum>=2.3.2 in /usr/local/lib/python3.6/dist-packages (from tensorflow) (3.1.0)\n",
      "Requirement already satisfied, skipping upgrade: astor>=0.6.0 in /usr/local/lib/python3.6/dist-packages (from tensorflow) (0.8.1)\n",
      "Requirement already satisfied, skipping upgrade: numpy<2.0,>=1.16.0 in /usr/local/lib/python3.6/dist-packages (from tensorflow) (1.17.4)\n",
      "Requirement already satisfied, skipping upgrade: keras-applications>=1.0.8 in /usr/local/lib/python3.6/dist-packages (from tensorflow) (1.0.8)\n",
      "Requirement already satisfied, skipping upgrade: keras-preprocessing>=1.0.5 in /usr/local/lib/python3.6/dist-packages (from tensorflow) (1.1.0)\n",
      "Requirement already satisfied, skipping upgrade: setuptools in /usr/local/lib/python3.6/dist-packages (from protobuf>=3.6.1->tensorflow) (42.0.2)\n",
      "Requirement already satisfied, skipping upgrade: markdown>=2.6.8 in /usr/local/lib/python3.6/dist-packages (from tensorboard<2.1.0,>=2.0.0->tensorflow) (3.1.1)\n",
      "Requirement already satisfied, skipping upgrade: requests<3,>=2.21.0 in /usr/local/lib/python3.6/dist-packages (from tensorboard<2.1.0,>=2.0.0->tensorflow) (2.21.0)\n",
      "Requirement already satisfied, skipping upgrade: werkzeug>=0.11.15 in /usr/local/lib/python3.6/dist-packages (from tensorboard<2.1.0,>=2.0.0->tensorflow) (0.16.0)\n",
      "Requirement already satisfied, skipping upgrade: google-auth-oauthlib<0.5,>=0.4.1 in /usr/local/lib/python3.6/dist-packages (from tensorboard<2.1.0,>=2.0.0->tensorflow) (0.4.1)\n",
      "Collecting google-auth<2,>=1.6.3\n",
      "\u001b[?25l  Downloading https://files.pythonhosted.org/packages/36/f8/84b5771faec3eba9fe0c91c8c5896364a8ba08852c0dea5ad2025026dd95/google_auth-1.10.0-py2.py3-none-any.whl (76kB)\n",
      "\u001b[K     |████████████████████████████████| 81kB 10.0MB/s \n",
      "\u001b[?25hRequirement already satisfied, skipping upgrade: h5py in /usr/local/lib/python3.6/dist-packages (from keras-applications>=1.0.8->tensorflow) (2.8.0)\n",
      "Requirement already satisfied, skipping upgrade: chardet<3.1.0,>=3.0.2 in /usr/local/lib/python3.6/dist-packages (from requests<3,>=2.21.0->tensorboard<2.1.0,>=2.0.0->tensorflow) (3.0.4)\n",
      "Requirement already satisfied, skipping upgrade: urllib3<1.25,>=1.21.1 in /usr/local/lib/python3.6/dist-packages (from requests<3,>=2.21.0->tensorboard<2.1.0,>=2.0.0->tensorflow) (1.24.3)\n",
      "Requirement already satisfied, skipping upgrade: certifi>=2017.4.17 in /usr/local/lib/python3.6/dist-packages (from requests<3,>=2.21.0->tensorboard<2.1.0,>=2.0.0->tensorflow) (2019.11.28)\n",
      "Requirement already satisfied, skipping upgrade: idna<2.9,>=2.5 in /usr/local/lib/python3.6/dist-packages (from requests<3,>=2.21.0->tensorboard<2.1.0,>=2.0.0->tensorflow) (2.8)\n",
      "Requirement already satisfied, skipping upgrade: requests-oauthlib>=0.7.0 in /usr/local/lib/python3.6/dist-packages (from google-auth-oauthlib<0.5,>=0.4.1->tensorboard<2.1.0,>=2.0.0->tensorflow) (1.3.0)\n",
      "Requirement already satisfied, skipping upgrade: cachetools<5.0,>=2.0.0 in /usr/local/lib/python3.6/dist-packages (from google-auth<2,>=1.6.3->tensorboard<2.1.0,>=2.0.0->tensorflow) (4.0.0)\n",
      "Requirement already satisfied, skipping upgrade: rsa<4.1,>=3.1.4 in /usr/local/lib/python3.6/dist-packages (from google-auth<2,>=1.6.3->tensorboard<2.1.0,>=2.0.0->tensorflow) (4.0)\n",
      "Requirement already satisfied, skipping upgrade: pyasn1-modules>=0.2.1 in /usr/local/lib/python3.6/dist-packages (from google-auth<2,>=1.6.3->tensorboard<2.1.0,>=2.0.0->tensorflow) (0.2.7)\n",
      "Requirement already satisfied, skipping upgrade: oauthlib>=3.0.0 in /usr/local/lib/python3.6/dist-packages (from requests-oauthlib>=0.7.0->google-auth-oauthlib<0.5,>=0.4.1->tensorboard<2.1.0,>=2.0.0->tensorflow) (3.1.0)\n",
      "Requirement already satisfied, skipping upgrade: pyasn1>=0.1.3 in /usr/local/lib/python3.6/dist-packages (from rsa<4.1,>=3.1.4->google-auth<2,>=1.6.3->tensorboard<2.1.0,>=2.0.0->tensorflow) (0.4.8)\n",
      "\u001b[31mERROR: tensorboard 2.0.2 has requirement grpcio>=1.24.3, but you'll have grpcio 1.15.0 which is incompatible.\u001b[0m\n",
      "\u001b[31mERROR: google-colab 1.0.0 has requirement google-auth~=1.4.0, but you'll have google-auth 1.10.0 which is incompatible.\u001b[0m\n",
      "Installing collected packages: tensorflow-estimator, google-auth, tensorboard, tensorflow\n",
      "  Found existing installation: tensorflow-estimator 1.15.1\n",
      "    Uninstalling tensorflow-estimator-1.15.1:\n",
      "      Successfully uninstalled tensorflow-estimator-1.15.1\n",
      "  Found existing installation: google-auth 1.4.2\n",
      "    Uninstalling google-auth-1.4.2:\n",
      "      Successfully uninstalled google-auth-1.4.2\n",
      "  Found existing installation: tensorboard 1.15.0\n",
      "    Uninstalling tensorboard-1.15.0:\n",
      "      Successfully uninstalled tensorboard-1.15.0\n",
      "  Found existing installation: tensorflow 1.15.0\n",
      "    Uninstalling tensorflow-1.15.0:\n",
      "      Successfully uninstalled tensorflow-1.15.0\n",
      "Successfully installed google-auth-1.10.0 tensorboard-2.0.2 tensorflow-2.0.0 tensorflow-estimator-2.0.1\n"
     ]
    },
    {
     "data": {
      "application/vnd.colab-display-data+json": {
       "pip_warning": {
        "packages": [
         "google",
         "tensorboard",
         "tensorflow",
         "tensorflow_core",
         "tensorflow_estimator"
        ]
       }
      }
     },
     "metadata": {
      "tags": []
     },
     "output_type": "display_data"
    },
    {
     "name": "stdout",
     "output_type": "stream",
     "text": [
      "Collecting keras\n",
      "\u001b[?25l  Downloading https://files.pythonhosted.org/packages/ad/fd/6bfe87920d7f4fd475acd28500a42482b6b84479832bdc0fe9e589a60ceb/Keras-2.3.1-py2.py3-none-any.whl (377kB)\n",
      "\u001b[K     |████████████████████████████████| 378kB 2.5MB/s \n",
      "\u001b[?25hRequirement already satisfied, skipping upgrade: pyyaml in /usr/local/lib/python3.6/dist-packages (from keras) (3.13)\n",
      "Requirement already satisfied, skipping upgrade: h5py in /usr/local/lib/python3.6/dist-packages (from keras) (2.8.0)\n",
      "Requirement already satisfied, skipping upgrade: scipy>=0.14 in /usr/local/lib/python3.6/dist-packages (from keras) (1.3.3)\n",
      "Requirement already satisfied, skipping upgrade: keras-preprocessing>=1.0.5 in /usr/local/lib/python3.6/dist-packages (from keras) (1.1.0)\n",
      "Requirement already satisfied, skipping upgrade: six>=1.9.0 in /usr/local/lib/python3.6/dist-packages (from keras) (1.12.0)\n",
      "Requirement already satisfied, skipping upgrade: keras-applications>=1.0.6 in /usr/local/lib/python3.6/dist-packages (from keras) (1.0.8)\n",
      "Requirement already satisfied, skipping upgrade: numpy>=1.9.1 in /usr/local/lib/python3.6/dist-packages (from keras) (1.17.4)\n",
      "Installing collected packages: keras\n",
      "  Found existing installation: Keras 2.2.5\n",
      "    Uninstalling Keras-2.2.5:\n",
      "      Successfully uninstalled Keras-2.2.5\n",
      "Successfully installed keras-2.3.1\n"
     ]
    },
    {
     "data": {
      "application/vnd.colab-display-data+json": {
       "pip_warning": {
        "packages": [
         "keras"
        ]
       }
      }
     },
     "metadata": {
      "tags": []
     },
     "output_type": "display_data"
    }
   ],
   "source": [
    "!pip install --upgrade tensorflow\n",
    "!pip install --upgrade keras"
   ]
  },
  {
   "cell_type": "markdown",
   "metadata": {
    "colab_type": "text",
    "id": "dHZe7AR4ldCD"
   },
   "source": []
  },
  {
   "cell_type": "code",
   "execution_count": 0,
   "metadata": {
    "colab": {
     "base_uri": "https://localhost:8080/",
     "height": 34
    },
    "colab_type": "code",
    "id": "Mt-MQ62llUVf",
    "outputId": "b9568f8a-37d5-4edc-d853-9310faca6250"
   },
   "outputs": [
    {
     "name": "stderr",
     "output_type": "stream",
     "text": [
      "Using TensorFlow backend.\n"
     ]
    }
   ],
   "source": [
    "# System/zip-handling imports\n",
    "import os, sys\n",
    "import zipfile\n",
    "\n",
    "# Imports tensorflow\n",
    "import tensorflow as tf\n",
    "from tensorflow.keras import datasets, layers, models, regularizers\n",
    "import keras \n",
    "from keras.layers import *\n",
    "from keras.models import *\n",
    "# Imports image handling\n",
    "import cv2\n",
    "import numpy as np\n",
    "import skimage\n",
    "\n",
    "# For generating training and test data\n",
    "import random\n",
    "\n",
    "# Save training progress\n",
    "import csv\n",
    "from datetime import datetime\n",
    "from shutil import copyfile  # Making copy of this file instance (including param settings used)\n"
   ]
  },
  {
   "cell_type": "markdown",
   "metadata": {
    "colab_type": "text",
    "id": "Mu5J_SqwlUVj"
   },
   "source": [
    "# Get sorted list of training file names:"
   ]
  },
  {
   "cell_type": "code",
   "execution_count": 0,
   "metadata": {
    "colab": {
     "base_uri": "https://localhost:8080/",
     "height": 54
    },
    "colab_type": "code",
    "id": "xIYRpwrTlUVl",
    "outputId": "9f78d987-bfab-4f43-e231-2d066129a1da"
   },
   "outputs": [
    {
     "name": "stdout",
     "output_type": "stream",
     "text": [
      "['spectrograms/spectrogram_0000.png', 'spectrograms/spectrogram_0001.png', 'spectrograms/spectrogram_0002.png', 'spectrograms/spectrogram_0003.png', 'spectrograms/spectrogram_0004.png', 'spectrograms/spectrogram_0005.png', 'spectrograms/spectrogram_0006.png', 'spectrograms/spectrogram_0007.png', 'spectrograms/spectrogram_0008.png', 'spectrograms/spectrogram_0009.png', 'spectrograms/spectrogram_0010.png', 'spectrograms/spectrogram_0011.png', 'spectrograms/spectrogram_0012.png', 'spectrograms/spectrogram_0013.png', 'spectrograms/spectrogram_0014.png', 'spectrograms/spectrogram_0015.png', 'spectrograms/spectrogram_0016.png', 'spectrograms/spectrogram_0017.png', 'spectrograms/spectrogram_0018.png', 'spectrograms/spectrogram_0019.png', 'spectrograms/spectrogram_0020.png', 'spectrograms/spectrogram_0021.png', 'spectrograms/spectrogram_0022.png', 'spectrograms/spectrogram_0023.png', 'spectrograms/spectrogram_0024.png', 'spectrograms/spectrogram_0025.png', 'spectrograms/spectrogram_0026.png', 'spectrograms/spectrogram_0027.png', 'spectrograms/spectrogram_0028.png', 'spectrograms/spectrogram_0029.png', 'spectrograms/spectrogram_0030.png', 'spectrograms/spectrogram_0031.png', 'spectrograms/spectrogram_0032.png', 'spectrograms/spectrogram_0033.png', 'spectrograms/spectrogram_0034.png', 'spectrograms/spectrogram_0035.png', 'spectrograms/spectrogram_0036.png', 'spectrograms/spectrogram_0037.png', 'spectrograms/spectrogram_0038.png', 'spectrograms/spectrogram_0039.png', 'spectrograms/spectrogram_0040.png', 'spectrograms/spectrogram_0041.png', 'spectrograms/spectrogram_0042.png', 'spectrograms/spectrogram_0043.png', 'spectrograms/spectrogram_0044.png', 'spectrograms/spectrogram_0045.png', 'spectrograms/spectrogram_0046.png', 'spectrograms/spectrogram_0047.png', 'spectrograms/spectrogram_0048.png', 'spectrograms/spectrogram_0049.png', 'spectrograms/spectrogram_0050.png', 'spectrograms/spectrogram_0051.png', 'spectrograms/spectrogram_0052.png', 'spectrograms/spectrogram_0053.png', 'spectrograms/spectrogram_0054.png', 'spectrograms/spectrogram_0055.png', 'spectrograms/spectrogram_0056.png', 'spectrograms/spectrogram_0057.png', 'spectrograms/spectrogram_0058.png', 'spectrograms/spectrogram_0059.png', 'spectrograms/spectrogram_0060.png', 'spectrograms/spectrogram_0061.png', 'spectrograms/spectrogram_0062.png', 'spectrograms/spectrogram_0063.png', 'spectrograms/spectrogram_0064.png', 'spectrograms/spectrogram_0065.png', 'spectrograms/spectrogram_0066.png', 'spectrograms/spectrogram_0067.png', 'spectrograms/spectrogram_0068.png', 'spectrograms/spectrogram_0069.png', 'spectrograms/spectrogram_0070.png', 'spectrograms/spectrogram_0071.png', 'spectrograms/spectrogram_0072.png', 'spectrograms/spectrogram_0073.png', 'spectrograms/spectrogram_0074.png', 'spectrograms/spectrogram_0075.png', 'spectrograms/spectrogram_0076.png', 'spectrograms/spectrogram_0077.png', 'spectrograms/spectrogram_0078.png', 'spectrograms/spectrogram_0079.png', 'spectrograms/spectrogram_0080.png', 'spectrograms/spectrogram_0081.png', 'spectrograms/spectrogram_0082.png', 'spectrograms/spectrogram_0083.png', 'spectrograms/spectrogram_0084.png', 'spectrograms/spectrogram_0085.png', 'spectrograms/spectrogram_0086.png', 'spectrograms/spectrogram_0087.png', 'spectrograms/spectrogram_0088.png', 'spectrograms/spectrogram_0089.png', 'spectrograms/spectrogram_0090.png', 'spectrograms/spectrogram_0091.png', 'spectrograms/spectrogram_0092.png', 'spectrograms/spectrogram_0093.png', 'spectrograms/spectrogram_0094.png', 'spectrograms/spectrogram_0095.png', 'spectrograms/spectrogram_0096.png', 'spectrograms/spectrogram_0097.png', 'spectrograms/spectrogram_0098.png', 'spectrograms/spectrogram_0099.png', 'spectrograms/spectrogram_0100.png', 'spectrograms/spectrogram_0101.png', 'spectrograms/spectrogram_0102.png', 'spectrograms/spectrogram_0103.png', 'spectrograms/spectrogram_0104.png', 'spectrograms/spectrogram_0105.png', 'spectrograms/spectrogram_0106.png', 'spectrograms/spectrogram_0107.png', 'spectrograms/spectrogram_0108.png', 'spectrograms/spectrogram_0109.png', 'spectrograms/spectrogram_0110.png', 'spectrograms/spectrogram_0111.png', 'spectrograms/spectrogram_0112.png', 'spectrograms/spectrogram_0113.png', 'spectrograms/spectrogram_0114.png', 'spectrograms/spectrogram_0115.png', 'spectrograms/spectrogram_0116.png', 'spectrograms/spectrogram_0117.png', 'spectrograms/spectrogram_0118.png', 'spectrograms/spectrogram_0119.png', 'spectrograms/spectrogram_0120.png', 'spectrograms/spectrogram_0121.png', 'spectrograms/spectrogram_0122.png', 'spectrograms/spectrogram_0123.png', 'spectrograms/spectrogram_0124.png', 'spectrograms/spectrogram_0125.png', 'spectrograms/spectrogram_0126.png', 'spectrograms/spectrogram_0127.png', 'spectrograms/spectrogram_0128.png', 'spectrograms/spectrogram_0129.png', 'spectrograms/spectrogram_0130.png', 'spectrograms/spectrogram_0131.png', 'spectrograms/spectrogram_0132.png', 'spectrograms/spectrogram_0133.png', 'spectrograms/spectrogram_0134.png', 'spectrograms/spectrogram_0135.png', 'spectrograms/spectrogram_0136.png', 'spectrograms/spectrogram_0137.png', 'spectrograms/spectrogram_0138.png', 'spectrograms/spectrogram_0139.png', 'spectrograms/spectrogram_0140.png', 'spectrograms/spectrogram_0141.png', 'spectrograms/spectrogram_0142.png', 'spectrograms/spectrogram_0143.png', 'spectrograms/spectrogram_0144.png', 'spectrograms/spectrogram_0145.png', 'spectrograms/spectrogram_0146.png', 'spectrograms/spectrogram_0147.png', 'spectrograms/spectrogram_0148.png', 'spectrograms/spectrogram_0149.png', 'spectrograms/spectrogram_0150.png', 'spectrograms/spectrogram_0151.png', 'spectrograms/spectrogram_0152.png', 'spectrograms/spectrogram_0153.png', 'spectrograms/spectrogram_0154.png', 'spectrograms/spectrogram_0155.png', 'spectrograms/spectrogram_0156.png', 'spectrograms/spectrogram_0157.png', 'spectrograms/spectrogram_0158.png', 'spectrograms/spectrogram_0159.png', 'spectrograms/spectrogram_0160.png', 'spectrograms/spectrogram_0161.png', 'spectrograms/spectrogram_0162.png', 'spectrograms/spectrogram_0163.png', 'spectrograms/spectrogram_0164.png', 'spectrograms/spectrogram_0165.png', 'spectrograms/spectrogram_0166.png', 'spectrograms/spectrogram_0167.png', 'spectrograms/spectrogram_0168.png', 'spectrograms/spectrogram_0169.png', 'spectrograms/spectrogram_0170.png', 'spectrograms/spectrogram_0171.png', 'spectrograms/spectrogram_0172.png', 'spectrograms/spectrogram_0173.png', 'spectrograms/spectrogram_0174.png', 'spectrograms/spectrogram_0175.png', 'spectrograms/spectrogram_0176.png', 'spectrograms/spectrogram_0177.png', 'spectrograms/spectrogram_0178.png', 'spectrograms/spectrogram_0179.png', 'spectrograms/spectrogram_0180.png', 'spectrograms/spectrogram_0181.png', 'spectrograms/spectrogram_0182.png', 'spectrograms/spectrogram_0183.png', 'spectrograms/spectrogram_0184.png', 'spectrograms/spectrogram_0185.png', 'spectrograms/spectrogram_0186.png', 'spectrograms/spectrogram_0187.png', 'spectrograms/spectrogram_0188.png', 'spectrograms/spectrogram_0189.png', 'spectrograms/spectrogram_0190.png', 'spectrograms/spectrogram_0191.png', 'spectrograms/spectrogram_0192.png', 'spectrograms/spectrogram_0193.png', 'spectrograms/spectrogram_0194.png', 'spectrograms/spectrogram_0195.png', 'spectrograms/spectrogram_0196.png', 'spectrograms/spectrogram_0197.png', 'spectrograms/spectrogram_0198.png', 'spectrograms/spectrogram_0199.png', 'spectrograms/spectrogram_0200.png', 'spectrograms/spectrogram_0201.png', 'spectrograms/spectrogram_0202.png', 'spectrograms/spectrogram_0203.png', 'spectrograms/spectrogram_0204.png', 'spectrograms/spectrogram_0205.png', 'spectrograms/spectrogram_0206.png', 'spectrograms/spectrogram_0207.png', 'spectrograms/spectrogram_0208.png', 'spectrograms/spectrogram_0209.png', 'spectrograms/spectrogram_0210.png', 'spectrograms/spectrogram_0211.png', 'spectrograms/spectrogram_0212.png', 'spectrograms/spectrogram_0213.png', 'spectrograms/spectrogram_0214.png', 'spectrograms/spectrogram_0215.png', 'spectrograms/spectrogram_0216.png', 'spectrograms/spectrogram_0217.png', 'spectrograms/spectrogram_0218.png', 'spectrograms/spectrogram_0219.png', 'spectrograms/spectrogram_0220.png', 'spectrograms/spectrogram_0221.png', 'spectrograms/spectrogram_0222.png', 'spectrograms/spectrogram_0223.png', 'spectrograms/spectrogram_0224.png', 'spectrograms/spectrogram_0225.png', 'spectrograms/spectrogram_0226.png', 'spectrograms/spectrogram_0227.png', 'spectrograms/spectrogram_0228.png', 'spectrograms/spectrogram_0229.png', 'spectrograms/spectrogram_0230.png', 'spectrograms/spectrogram_0231.png', 'spectrograms/spectrogram_0232.png', 'spectrograms/spectrogram_0233.png', 'spectrograms/spectrogram_0234.png', 'spectrograms/spectrogram_0235.png', 'spectrograms/spectrogram_0236.png', 'spectrograms/spectrogram_0237.png', 'spectrograms/spectrogram_0238.png', 'spectrograms/spectrogram_0239.png', 'spectrograms/spectrogram_0240.png', 'spectrograms/spectrogram_0241.png', 'spectrograms/spectrogram_0242.png', 'spectrograms/spectrogram_0243.png', 'spectrograms/spectrogram_0244.png', 'spectrograms/spectrogram_0245.png', 'spectrograms/spectrogram_0246.png', 'spectrograms/spectrogram_0247.png', 'spectrograms/spectrogram_0248.png', 'spectrograms/spectrogram_0249.png', 'spectrograms/spectrogram_0250.png', 'spectrograms/spectrogram_0251.png', 'spectrograms/spectrogram_0252.png', 'spectrograms/spectrogram_0253.png', 'spectrograms/spectrogram_0254.png', 'spectrograms/spectrogram_0255.png', 'spectrograms/spectrogram_0256.png', 'spectrograms/spectrogram_0257.png', 'spectrograms/spectrogram_0258.png', 'spectrograms/spectrogram_0259.png', 'spectrograms/spectrogram_0260.png', 'spectrograms/spectrogram_0261.png', 'spectrograms/spectrogram_0262.png', 'spectrograms/spectrogram_0263.png', 'spectrograms/spectrogram_0264.png', 'spectrograms/spectrogram_0265.png', 'spectrograms/spectrogram_0266.png', 'spectrograms/spectrogram_0267.png', 'spectrograms/spectrogram_0268.png', 'spectrograms/spectrogram_0269.png', 'spectrograms/spectrogram_0270.png', 'spectrograms/spectrogram_0271.png', 'spectrograms/spectrogram_0272.png', 'spectrograms/spectrogram_0273.png', 'spectrograms/spectrogram_0274.png', 'spectrograms/spectrogram_0275.png', 'spectrograms/spectrogram_0276.png', 'spectrograms/spectrogram_0277.png', 'spectrograms/spectrogram_0278.png', 'spectrograms/spectrogram_0279.png', 'spectrograms/spectrogram_0280.png', 'spectrograms/spectrogram_0281.png', 'spectrograms/spectrogram_0282.png', 'spectrograms/spectrogram_0283.png', 'spectrograms/spectrogram_0284.png', 'spectrograms/spectrogram_0285.png', 'spectrograms/spectrogram_0286.png', 'spectrograms/spectrogram_0287.png', 'spectrograms/spectrogram_0288.png', 'spectrograms/spectrogram_0289.png', 'spectrograms/spectrogram_0290.png', 'spectrograms/spectrogram_0291.png', 'spectrograms/spectrogram_0292.png', 'spectrograms/spectrogram_0293.png', 'spectrograms/spectrogram_0294.png', 'spectrograms/spectrogram_0295.png', 'spectrograms/spectrogram_0296.png', 'spectrograms/spectrogram_0297.png', 'spectrograms/spectrogram_0298.png', 'spectrograms/spectrogram_0299.png', 'spectrograms/spectrogram_0300.png', 'spectrograms/spectrogram_0301.png', 'spectrograms/spectrogram_0302.png', 'spectrograms/spectrogram_0303.png', 'spectrograms/spectrogram_0304.png', 'spectrograms/spectrogram_0305.png', 'spectrograms/spectrogram_0306.png', 'spectrograms/spectrogram_0307.png', 'spectrograms/spectrogram_0308.png', 'spectrograms/spectrogram_0309.png', 'spectrograms/spectrogram_0310.png', 'spectrograms/spectrogram_0311.png', 'spectrograms/spectrogram_0312.png', 'spectrograms/spectrogram_0313.png', 'spectrograms/spectrogram_0314.png', 'spectrograms/spectrogram_0315.png', 'spectrograms/spectrogram_0316.png', 'spectrograms/spectrogram_0317.png', 'spectrograms/spectrogram_0318.png', 'spectrograms/spectrogram_0319.png', 'spectrograms/spectrogram_0320.png', 'spectrograms/spectrogram_0321.png', 'spectrograms/spectrogram_0322.png', 'spectrograms/spectrogram_0323.png', 'spectrograms/spectrogram_0324.png', 'spectrograms/spectrogram_0325.png', 'spectrograms/spectrogram_0326.png', 'spectrograms/spectrogram_0327.png', 'spectrograms/spectrogram_0328.png', 'spectrograms/spectrogram_0329.png', 'spectrograms/spectrogram_0330.png', 'spectrograms/spectrogram_0331.png', 'spectrograms/spectrogram_0332.png', 'spectrograms/spectrogram_0333.png', 'spectrograms/spectrogram_0334.png', 'spectrograms/spectrogram_0335.png', 'spectrograms/spectrogram_0336.png', 'spectrograms/spectrogram_0337.png', 'spectrograms/spectrogram_0338.png', 'spectrograms/spectrogram_0339.png', 'spectrograms/spectrogram_0340.png', 'spectrograms/spectrogram_0341.png', 'spectrograms/spectrogram_0342.png', 'spectrograms/spectrogram_0343.png', 'spectrograms/spectrogram_0344.png', 'spectrograms/spectrogram_0345.png', 'spectrograms/spectrogram_0346.png', 'spectrograms/spectrogram_0347.png', 'spectrograms/spectrogram_0348.png', 'spectrograms/spectrogram_0349.png', 'spectrograms/spectrogram_0350.png', 'spectrograms/spectrogram_0351.png', 'spectrograms/spectrogram_0352.png', 'spectrograms/spectrogram_0353.png', 'spectrograms/spectrogram_0354.png', 'spectrograms/spectrogram_0355.png', 'spectrograms/spectrogram_0356.png', 'spectrograms/spectrogram_0357.png', 'spectrograms/spectrogram_0358.png', 'spectrograms/spectrogram_0359.png', 'spectrograms/spectrogram_0360.png', 'spectrograms/spectrogram_0361.png', 'spectrograms/spectrogram_0362.png', 'spectrograms/spectrogram_0363.png', 'spectrograms/spectrogram_0364.png', 'spectrograms/spectrogram_0365.png', 'spectrograms/spectrogram_0366.png', 'spectrograms/spectrogram_0367.png', 'spectrograms/spectrogram_0368.png', 'spectrograms/spectrogram_0369.png', 'spectrograms/spectrogram_0370.png', 'spectrograms/spectrogram_0371.png', 'spectrograms/spectrogram_0372.png', 'spectrograms/spectrogram_0373.png', 'spectrograms/spectrogram_0374.png', 'spectrograms/spectrogram_0375.png', 'spectrograms/spectrogram_0376.png', 'spectrograms/spectrogram_0377.png', 'spectrograms/spectrogram_0378.png', 'spectrograms/spectrogram_0379.png', 'spectrograms/spectrogram_0380.png', 'spectrograms/spectrogram_0381.png', 'spectrograms/spectrogram_0382.png', 'spectrograms/spectrogram_0383.png', 'spectrograms/spectrogram_0384.png', 'spectrograms/spectrogram_0385.png', 'spectrograms/spectrogram_0386.png', 'spectrograms/spectrogram_0387.png', 'spectrograms/spectrogram_0388.png', 'spectrograms/spectrogram_0389.png', 'spectrograms/spectrogram_0390.png', 'spectrograms/spectrogram_0391.png', 'spectrograms/spectrogram_0392.png', 'spectrograms/spectrogram_0393.png', 'spectrograms/spectrogram_0394.png', 'spectrograms/spectrogram_0395.png', 'spectrograms/spectrogram_0396.png', 'spectrograms/spectrogram_0397.png', 'spectrograms/spectrogram_0398.png', 'spectrograms/spectrogram_0399.png', 'spectrograms/spectrogram_0400.png', 'spectrograms/spectrogram_0401.png', 'spectrograms/spectrogram_0402.png', 'spectrograms/spectrogram_0403.png', 'spectrograms/spectrogram_0404.png', 'spectrograms/spectrogram_0405.png', 'spectrograms/spectrogram_0406.png', 'spectrograms/spectrogram_0407.png', 'spectrograms/spectrogram_0408.png', 'spectrograms/spectrogram_0409.png', 'spectrograms/spectrogram_0410.png', 'spectrograms/spectrogram_0411.png', 'spectrograms/spectrogram_0412.png', 'spectrograms/spectrogram_0413.png', 'spectrograms/spectrogram_0414.png', 'spectrograms/spectrogram_0415.png', 'spectrograms/spectrogram_0416.png', 'spectrograms/spectrogram_0417.png', 'spectrograms/spectrogram_0418.png', 'spectrograms/spectrogram_0419.png', 'spectrograms/spectrogram_0420.png', 'spectrograms/spectrogram_0421.png', 'spectrograms/spectrogram_0422.png', 'spectrograms/spectrogram_0423.png', 'spectrograms/spectrogram_0424.png', 'spectrograms/spectrogram_0425.png', 'spectrograms/spectrogram_0426.png', 'spectrograms/spectrogram_0427.png', 'spectrograms/spectrogram_0428.png', 'spectrograms/spectrogram_0429.png', 'spectrograms/spectrogram_0430.png', 'spectrograms/spectrogram_0431.png', 'spectrograms/spectrogram_0432.png', 'spectrograms/spectrogram_0433.png', 'spectrograms/spectrogram_0434.png', 'spectrograms/spectrogram_0435.png', 'spectrograms/spectrogram_0436.png', 'spectrograms/spectrogram_0437.png', 'spectrograms/spectrogram_0438.png', 'spectrograms/spectrogram_0439.png', 'spectrograms/spectrogram_0440.png', 'spectrograms/spectrogram_0441.png', 'spectrograms/spectrogram_0442.png', 'spectrograms/spectrogram_0443.png', 'spectrograms/spectrogram_0444.png', 'spectrograms/spectrogram_0445.png', 'spectrograms/spectrogram_0446.png', 'spectrograms/spectrogram_0447.png', 'spectrograms/spectrogram_0448.png', 'spectrograms/spectrogram_0449.png', 'spectrograms/spectrogram_0450.png', 'spectrograms/spectrogram_0451.png', 'spectrograms/spectrogram_0452.png', 'spectrograms/spectrogram_0453.png', 'spectrograms/spectrogram_0454.png', 'spectrograms/spectrogram_0455.png', 'spectrograms/spectrogram_0456.png', 'spectrograms/spectrogram_0457.png', 'spectrograms/spectrogram_0458.png', 'spectrograms/spectrogram_0459.png', 'spectrograms/spectrogram_0460.png', 'spectrograms/spectrogram_0461.png', 'spectrograms/spectrogram_0462.png', 'spectrograms/spectrogram_0463.png', 'spectrograms/spectrogram_0464.png', 'spectrograms/spectrogram_0465.png', 'spectrograms/spectrogram_0466.png', 'spectrograms/spectrogram_0467.png', 'spectrograms/spectrogram_0468.png', 'spectrograms/spectrogram_0469.png', 'spectrograms/spectrogram_0470.png', 'spectrograms/spectrogram_0471.png', 'spectrograms/spectrogram_0472.png', 'spectrograms/spectrogram_0473.png', 'spectrograms/spectrogram_0474.png', 'spectrograms/spectrogram_0475.png', 'spectrograms/spectrogram_0476.png', 'spectrograms/spectrogram_0477.png', 'spectrograms/spectrogram_0478.png', 'spectrograms/spectrogram_0479.png', 'spectrograms/spectrogram_0480.png', 'spectrograms/spectrogram_0481.png', 'spectrograms/spectrogram_0482.png', 'spectrograms/spectrogram_0483.png', 'spectrograms/spectrogram_0484.png', 'spectrograms/spectrogram_0485.png', 'spectrograms/spectrogram_0486.png', 'spectrograms/spectrogram_0487.png', 'spectrograms/spectrogram_0488.png', 'spectrograms/spectrogram_0489.png', 'spectrograms/spectrogram_0490.png', 'spectrograms/spectrogram_0491.png', 'spectrograms/spectrogram_0492.png', 'spectrograms/spectrogram_0493.png', 'spectrograms/spectrogram_0494.png', 'spectrograms/spectrogram_0495.png', 'spectrograms/spectrogram_0496.png', 'spectrograms/spectrogram_0497.png', 'spectrograms/spectrogram_0498.png', 'spectrograms/spectrogram_0499.png', 'spectrograms/spectrogram_0500.png', 'spectrograms/spectrogram_0501.png', 'spectrograms/spectrogram_0502.png', 'spectrograms/spectrogram_0503.png', 'spectrograms/spectrogram_0504.png', 'spectrograms/spectrogram_0505.png', 'spectrograms/spectrogram_0506.png', 'spectrograms/spectrogram_0507.png', 'spectrograms/spectrogram_0508.png', 'spectrograms/spectrogram_0509.png', 'spectrograms/spectrogram_0510.png', 'spectrograms/spectrogram_0511.png', 'spectrograms/spectrogram_0512.png', 'spectrograms/spectrogram_0513.png', 'spectrograms/spectrogram_0514.png', 'spectrograms/spectrogram_0515.png', 'spectrograms/spectrogram_0516.png', 'spectrograms/spectrogram_0517.png', 'spectrograms/spectrogram_0518.png', 'spectrograms/spectrogram_0519.png', 'spectrograms/spectrogram_0520.png', 'spectrograms/spectrogram_0521.png', 'spectrograms/spectrogram_0522.png', 'spectrograms/spectrogram_0523.png', 'spectrograms/spectrogram_0524.png', 'spectrograms/spectrogram_0525.png', 'spectrograms/spectrogram_0526.png', 'spectrograms/spectrogram_0527.png', 'spectrograms/spectrogram_0528.png', 'spectrograms/spectrogram_0529.png', 'spectrograms/spectrogram_0530.png', 'spectrograms/spectrogram_0531.png', 'spectrograms/spectrogram_0532.png', 'spectrograms/spectrogram_0533.png', 'spectrograms/spectrogram_0534.png', 'spectrograms/spectrogram_0535.png', 'spectrograms/spectrogram_0536.png', 'spectrograms/spectrogram_0537.png', 'spectrograms/spectrogram_0538.png', 'spectrograms/spectrogram_0539.png', 'spectrograms/spectrogram_0540.png', 'spectrograms/spectrogram_0541.png', 'spectrograms/spectrogram_0542.png', 'spectrograms/spectrogram_0543.png', 'spectrograms/spectrogram_0544.png', 'spectrograms/spectrogram_0545.png', 'spectrograms/spectrogram_0546.png', 'spectrograms/spectrogram_0547.png', 'spectrograms/spectrogram_0548.png', 'spectrograms/spectrogram_0549.png', 'spectrograms/spectrogram_0550.png', 'spectrograms/spectrogram_0551.png', 'spectrograms/spectrogram_0552.png', 'spectrograms/spectrogram_0553.png', 'spectrograms/spectrogram_0554.png', 'spectrograms/spectrogram_0555.png', 'spectrograms/spectrogram_0556.png', 'spectrograms/spectrogram_0557.png', 'spectrograms/spectrogram_0558.png', 'spectrograms/spectrogram_0559.png', 'spectrograms/spectrogram_0560.png', 'spectrograms/spectrogram_0561.png', 'spectrograms/spectrogram_0562.png', 'spectrograms/spectrogram_0563.png', 'spectrograms/spectrogram_0564.png', 'spectrograms/spectrogram_0565.png', 'spectrograms/spectrogram_0566.png', 'spectrograms/spectrogram_0567.png', 'spectrograms/spectrogram_0568.png', 'spectrograms/spectrogram_0569.png', 'spectrograms/spectrogram_0570.png', 'spectrograms/spectrogram_0571.png', 'spectrograms/spectrogram_0572.png', 'spectrograms/spectrogram_0573.png', 'spectrograms/spectrogram_0574.png', 'spectrograms/spectrogram_0575.png', 'spectrograms/spectrogram_0576.png', 'spectrograms/spectrogram_0577.png', 'spectrograms/spectrogram_0578.png', 'spectrograms/spectrogram_0579.png', 'spectrograms/spectrogram_0580.png', 'spectrograms/spectrogram_0581.png', 'spectrograms/spectrogram_0582.png', 'spectrograms/spectrogram_0583.png', 'spectrograms/spectrogram_0584.png', 'spectrograms/spectrogram_0585.png', 'spectrograms/spectrogram_0586.png', 'spectrograms/spectrogram_0587.png', 'spectrograms/spectrogram_0588.png', 'spectrograms/spectrogram_0589.png', 'spectrograms/spectrogram_0590.png', 'spectrograms/spectrogram_0591.png', 'spectrograms/spectrogram_0592.png', 'spectrograms/spectrogram_0593.png', 'spectrograms/spectrogram_0594.png', 'spectrograms/spectrogram_0595.png', 'spectrograms/spectrogram_0596.png', 'spectrograms/spectrogram_0597.png', 'spectrograms/spectrogram_0598.png', 'spectrograms/spectrogram_0599.png', 'spectrograms/spectrogram_0600.png', 'spectrograms/spectrogram_0601.png', 'spectrograms/spectrogram_0602.png', 'spectrograms/spectrogram_0603.png', 'spectrograms/spectrogram_0604.png', 'spectrograms/spectrogram_0605.png', 'spectrograms/spectrogram_0606.png', 'spectrograms/spectrogram_0607.png', 'spectrograms/spectrogram_0608.png', 'spectrograms/spectrogram_0609.png', 'spectrograms/spectrogram_0610.png', 'spectrograms/spectrogram_0611.png', 'spectrograms/spectrogram_0612.png', 'spectrograms/spectrogram_0613.png', 'spectrograms/spectrogram_0614.png', 'spectrograms/spectrogram_0615.png', 'spectrograms/spectrogram_0616.png', 'spectrograms/spectrogram_0617.png', 'spectrograms/spectrogram_0618.png', 'spectrograms/spectrogram_0619.png', 'spectrograms/spectrogram_0620.png', 'spectrograms/spectrogram_0621.png', 'spectrograms/spectrogram_0622.png', 'spectrograms/spectrogram_0623.png', 'spectrograms/spectrogram_0624.png', 'spectrograms/spectrogram_0625.png', 'spectrograms/spectrogram_0626.png', 'spectrograms/spectrogram_0627.png', 'spectrograms/spectrogram_0628.png', 'spectrograms/spectrogram_0629.png', 'spectrograms/spectrogram_0630.png', 'spectrograms/spectrogram_0631.png', 'spectrograms/spectrogram_0632.png', 'spectrograms/spectrogram_0633.png', 'spectrograms/spectrogram_0634.png', 'spectrograms/spectrogram_0635.png', 'spectrograms/spectrogram_0636.png', 'spectrograms/spectrogram_0637.png', 'spectrograms/spectrogram_0638.png', 'spectrograms/spectrogram_0639.png', 'spectrograms/spectrogram_0640.png', 'spectrograms/spectrogram_0641.png', 'spectrograms/spectrogram_0642.png', 'spectrograms/spectrogram_0643.png', 'spectrograms/spectrogram_0644.png', 'spectrograms/spectrogram_0645.png', 'spectrograms/spectrogram_0646.png', 'spectrograms/spectrogram_0647.png', 'spectrograms/spectrogram_0648.png', 'spectrograms/spectrogram_0649.png', 'spectrograms/spectrogram_0650.png', 'spectrograms/spectrogram_0651.png', 'spectrograms/spectrogram_0652.png', 'spectrograms/spectrogram_0653.png', 'spectrograms/spectrogram_0654.png', 'spectrograms/spectrogram_0655.png', 'spectrograms/spectrogram_0656.png', 'spectrograms/spectrogram_0657.png', 'spectrograms/spectrogram_0658.png', 'spectrograms/spectrogram_0659.png', 'spectrograms/spectrogram_0660.png', 'spectrograms/spectrogram_0661.png', 'spectrograms/spectrogram_0662.png', 'spectrograms/spectrogram_0663.png', 'spectrograms/spectrogram_0664.png', 'spectrograms/spectrogram_0665.png', 'spectrograms/spectrogram_0666.png', 'spectrograms/spectrogram_0667.png', 'spectrograms/spectrogram_0668.png', 'spectrograms/spectrogram_0669.png', 'spectrograms/spectrogram_0670.png', 'spectrograms/spectrogram_0671.png', 'spectrograms/spectrogram_0672.png', 'spectrograms/spectrogram_0673.png', 'spectrograms/spectrogram_0674.png', 'spectrograms/spectrogram_0675.png', 'spectrograms/spectrogram_0676.png', 'spectrograms/spectrogram_0677.png', 'spectrograms/spectrogram_0678.png', 'spectrograms/spectrogram_0679.png', 'spectrograms/spectrogram_0680.png', 'spectrograms/spectrogram_0681.png', 'spectrograms/spectrogram_0682.png', 'spectrograms/spectrogram_0683.png', 'spectrograms/spectrogram_0684.png', 'spectrograms/spectrogram_0685.png', 'spectrograms/spectrogram_0686.png', 'spectrograms/spectrogram_0687.png', 'spectrograms/spectrogram_0688.png', 'spectrograms/spectrogram_0689.png', 'spectrograms/spectrogram_0690.png', 'spectrograms/spectrogram_0691.png', 'spectrograms/spectrogram_0692.png', 'spectrograms/spectrogram_0693.png', 'spectrograms/spectrogram_0694.png', 'spectrograms/spectrogram_0695.png', 'spectrograms/spectrogram_0696.png', 'spectrograms/spectrogram_0697.png', 'spectrograms/spectrogram_0698.png', 'spectrograms/spectrogram_0699.png', 'spectrograms/spectrogram_0700.png', 'spectrograms/spectrogram_0701.png', 'spectrograms/spectrogram_0702.png', 'spectrograms/spectrogram_0703.png', 'spectrograms/spectrogram_0704.png', 'spectrograms/spectrogram_0705.png', 'spectrograms/spectrogram_0706.png', 'spectrograms/spectrogram_0707.png', 'spectrograms/spectrogram_0708.png', 'spectrograms/spectrogram_0709.png', 'spectrograms/spectrogram_0710.png', 'spectrograms/spectrogram_0711.png', 'spectrograms/spectrogram_0712.png', 'spectrograms/spectrogram_0713.png', 'spectrograms/spectrogram_0714.png', 'spectrograms/spectrogram_0715.png', 'spectrograms/spectrogram_0716.png', 'spectrograms/spectrogram_0717.png', 'spectrograms/spectrogram_0718.png', 'spectrograms/spectrogram_0719.png', 'spectrograms/spectrogram_0720.png', 'spectrograms/spectrogram_0721.png', 'spectrograms/spectrogram_0722.png', 'spectrograms/spectrogram_0723.png', 'spectrograms/spectrogram_0724.png', 'spectrograms/spectrogram_0725.png', 'spectrograms/spectrogram_0726.png', 'spectrograms/spectrogram_0727.png', 'spectrograms/spectrogram_0728.png', 'spectrograms/spectrogram_0729.png', 'spectrograms/spectrogram_0730.png', 'spectrograms/spectrogram_0731.png', 'spectrograms/spectrogram_0732.png', 'spectrograms/spectrogram_0733.png', 'spectrograms/spectrogram_0734.png', 'spectrograms/spectrogram_0735.png', 'spectrograms/spectrogram_0736.png', 'spectrograms/spectrogram_0737.png', 'spectrograms/spectrogram_0738.png', 'spectrograms/spectrogram_0739.png', 'spectrograms/spectrogram_0740.png', 'spectrograms/spectrogram_0741.png', 'spectrograms/spectrogram_0742.png', 'spectrograms/spectrogram_0743.png', 'spectrograms/spectrogram_0744.png', 'spectrograms/spectrogram_0745.png', 'spectrograms/spectrogram_0746.png', 'spectrograms/spectrogram_0747.png', 'spectrograms/spectrogram_0748.png', 'spectrograms/spectrogram_0749.png', 'spectrograms/spectrogram_0750.png', 'spectrograms/spectrogram_0751.png', 'spectrograms/spectrogram_0752.png', 'spectrograms/spectrogram_0753.png', 'spectrograms/spectrogram_0754.png', 'spectrograms/spectrogram_0755.png', 'spectrograms/spectrogram_0756.png', 'spectrograms/spectrogram_0757.png', 'spectrograms/spectrogram_0758.png', 'spectrograms/spectrogram_0759.png', 'spectrograms/spectrogram_0760.png', 'spectrograms/spectrogram_0761.png', 'spectrograms/spectrogram_0762.png', 'spectrograms/spectrogram_0763.png', 'spectrograms/spectrogram_0764.png', 'spectrograms/spectrogram_0765.png', 'spectrograms/spectrogram_0766.png', 'spectrograms/spectrogram_0767.png', 'spectrograms/spectrogram_0768.png', 'spectrograms/spectrogram_0769.png', 'spectrograms/spectrogram_0770.png', 'spectrograms/spectrogram_0771.png', 'spectrograms/spectrogram_0772.png', 'spectrograms/spectrogram_0773.png', 'spectrograms/spectrogram_0774.png', 'spectrograms/spectrogram_0775.png', 'spectrograms/spectrogram_0776.png', 'spectrograms/spectrogram_0777.png', 'spectrograms/spectrogram_0778.png', 'spectrograms/spectrogram_0779.png', 'spectrograms/spectrogram_0780.png', 'spectrograms/spectrogram_0781.png', 'spectrograms/spectrogram_0782.png', 'spectrograms/spectrogram_0783.png', 'spectrograms/spectrogram_0784.png', 'spectrograms/spectrogram_0785.png', 'spectrograms/spectrogram_0786.png', 'spectrograms/spectrogram_0787.png', 'spectrograms/spectrogram_0788.png', 'spectrograms/spectrogram_0789.png', 'spectrograms/spectrogram_0790.png', 'spectrograms/spectrogram_0791.png', 'spectrograms/spectrogram_0792.png', 'spectrograms/spectrogram_0793.png', 'spectrograms/spectrogram_0794.png', 'spectrograms/spectrogram_0795.png', 'spectrograms/spectrogram_0796.png', 'spectrograms/spectrogram_0797.png', 'spectrograms/spectrogram_0798.png', 'spectrograms/spectrogram_0799.png', 'spectrograms/spectrogram_0800.png', 'spectrograms/spectrogram_0801.png', 'spectrograms/spectrogram_0802.png', 'spectrograms/spectrogram_0803.png', 'spectrograms/spectrogram_0804.png', 'spectrograms/spectrogram_0805.png', 'spectrograms/spectrogram_0806.png', 'spectrograms/spectrogram_0807.png', 'spectrograms/spectrogram_0808.png', 'spectrograms/spectrogram_0809.png', 'spectrograms/spectrogram_0810.png', 'spectrograms/spectrogram_0811.png', 'spectrograms/spectrogram_0812.png', 'spectrograms/spectrogram_0813.png', 'spectrograms/spectrogram_0814.png', 'spectrograms/spectrogram_0815.png', 'spectrograms/spectrogram_0816.png', 'spectrograms/spectrogram_0817.png', 'spectrograms/spectrogram_0818.png', 'spectrograms/spectrogram_0819.png', 'spectrograms/spectrogram_0820.png', 'spectrograms/spectrogram_0821.png', 'spectrograms/spectrogram_0822.png', 'spectrograms/spectrogram_0823.png', 'spectrograms/spectrogram_0824.png', 'spectrograms/spectrogram_0825.png', 'spectrograms/spectrogram_0826.png', 'spectrograms/spectrogram_0827.png', 'spectrograms/spectrogram_0828.png', 'spectrograms/spectrogram_0829.png', 'spectrograms/spectrogram_0830.png', 'spectrograms/spectrogram_0831.png', 'spectrograms/spectrogram_0832.png', 'spectrograms/spectrogram_0833.png', 'spectrograms/spectrogram_0834.png', 'spectrograms/spectrogram_0835.png', 'spectrograms/spectrogram_0836.png', 'spectrograms/spectrogram_0837.png', 'spectrograms/spectrogram_0838.png', 'spectrograms/spectrogram_0839.png', 'spectrograms/spectrogram_0840.png', 'spectrograms/spectrogram_0841.png', 'spectrograms/spectrogram_0842.png', 'spectrograms/spectrogram_0843.png', 'spectrograms/spectrogram_0844.png', 'spectrograms/spectrogram_0845.png', 'spectrograms/spectrogram_0846.png', 'spectrograms/spectrogram_0847.png', 'spectrograms/spectrogram_0848.png', 'spectrograms/spectrogram_0849.png', 'spectrograms/spectrogram_0850.png', 'spectrograms/spectrogram_0851.png', 'spectrograms/spectrogram_0852.png', 'spectrograms/spectrogram_0853.png', 'spectrograms/spectrogram_0854.png', 'spectrograms/spectrogram_0855.png', 'spectrograms/spectrogram_0856.png', 'spectrograms/spectrogram_0857.png', 'spectrograms/spectrogram_0858.png', 'spectrograms/spectrogram_0859.png', 'spectrograms/spectrogram_0860.png', 'spectrograms/spectrogram_0861.png', 'spectrograms/spectrogram_0862.png', 'spectrograms/spectrogram_0863.png', 'spectrograms/spectrogram_0864.png', 'spectrograms/spectrogram_0865.png', 'spectrograms/spectrogram_0866.png', 'spectrograms/spectrogram_0867.png', 'spectrograms/spectrogram_0868.png', 'spectrograms/spectrogram_0869.png', 'spectrograms/spectrogram_0870.png', 'spectrograms/spectrogram_0871.png', 'spectrograms/spectrogram_0872.png', 'spectrograms/spectrogram_0873.png', 'spectrograms/spectrogram_0874.png', 'spectrograms/spectrogram_0875.png', 'spectrograms/spectrogram_0876.png', 'spectrograms/spectrogram_0877.png', 'spectrograms/spectrogram_0878.png', 'spectrograms/spectrogram_0879.png', 'spectrograms/spectrogram_0880.png', 'spectrograms/spectrogram_0881.png', 'spectrograms/spectrogram_0882.png', 'spectrograms/spectrogram_0883.png', 'spectrograms/spectrogram_0884.png', 'spectrograms/spectrogram_0885.png', 'spectrograms/spectrogram_0886.png', 'spectrograms/spectrogram_0887.png', 'spectrograms/spectrogram_0888.png', 'spectrograms/spectrogram_0889.png', 'spectrograms/spectrogram_0890.png', 'spectrograms/spectrogram_0891.png', 'spectrograms/spectrogram_0892.png', 'spectrograms/spectrogram_0893.png', 'spectrograms/spectrogram_0894.png', 'spectrograms/spectrogram_0895.png', 'spectrograms/spectrogram_0896.png', 'spectrograms/spectrogram_0897.png', 'spectrograms/spectrogram_0898.png', 'spectrograms/spectrogram_0899.png', 'spectrograms/spectrogram_0900.png', 'spectrograms/spectrogram_0901.png', 'spectrograms/spectrogram_0902.png', 'spectrograms/spectrogram_0903.png', 'spectrograms/spectrogram_0904.png', 'spectrograms/spectrogram_0905.png', 'spectrograms/spectrogram_0906.png', 'spectrograms/spectrogram_0907.png', 'spectrograms/spectrogram_0908.png', 'spectrograms/spectrogram_0909.png', 'spectrograms/spectrogram_0910.png', 'spectrograms/spectrogram_0911.png', 'spectrograms/spectrogram_0912.png', 'spectrograms/spectrogram_0913.png', 'spectrograms/spectrogram_0914.png', 'spectrograms/spectrogram_0915.png', 'spectrograms/spectrogram_0916.png', 'spectrograms/spectrogram_0917.png', 'spectrograms/spectrogram_0918.png', 'spectrograms/spectrogram_0919.png', 'spectrograms/spectrogram_0920.png', 'spectrograms/spectrogram_0921.png', 'spectrograms/spectrogram_0922.png', 'spectrograms/spectrogram_0923.png', 'spectrograms/spectrogram_0924.png', 'spectrograms/spectrogram_0925.png', 'spectrograms/spectrogram_0926.png', 'spectrograms/spectrogram_0927.png', 'spectrograms/spectrogram_0928.png', 'spectrograms/spectrogram_0929.png', 'spectrograms/spectrogram_0930.png', 'spectrograms/spectrogram_0931.png', 'spectrograms/spectrogram_0932.png', 'spectrograms/spectrogram_0933.png', 'spectrograms/spectrogram_0934.png', 'spectrograms/spectrogram_0935.png', 'spectrograms/spectrogram_0936.png', 'spectrograms/spectrogram_0937.png', 'spectrograms/spectrogram_0938.png', 'spectrograms/spectrogram_0939.png', 'spectrograms/spectrogram_0940.png', 'spectrograms/spectrogram_0941.png', 'spectrograms/spectrogram_0942.png', 'spectrograms/spectrogram_0943.png', 'spectrograms/spectrogram_0944.png', 'spectrograms/spectrogram_0945.png', 'spectrograms/spectrogram_0946.png', 'spectrograms/spectrogram_0947.png', 'spectrograms/spectrogram_0948.png', 'spectrograms/spectrogram_0949.png', 'spectrograms/spectrogram_0950.png', 'spectrograms/spectrogram_0951.png', 'spectrograms/spectrogram_0952.png', 'spectrograms/spectrogram_0953.png', 'spectrograms/spectrogram_0954.png', 'spectrograms/spectrogram_0955.png', 'spectrograms/spectrogram_0956.png', 'spectrograms/spectrogram_0957.png', 'spectrograms/spectrogram_0958.png', 'spectrograms/spectrogram_0959.png', 'spectrograms/spectrogram_0960.png', 'spectrograms/spectrogram_0961.png', 'spectrograms/spectrogram_0962.png', 'spectrograms/spectrogram_0963.png', 'spectrograms/spectrogram_0964.png', 'spectrograms/spectrogram_0965.png', 'spectrograms/spectrogram_0966.png', 'spectrograms/spectrogram_0967.png', 'spectrograms/spectrogram_0968.png', 'spectrograms/spectrogram_0969.png', 'spectrograms/spectrogram_0970.png', 'spectrograms/spectrogram_0971.png', 'spectrograms/spectrogram_0972.png', 'spectrograms/spectrogram_0973.png', 'spectrograms/spectrogram_0974.png', 'spectrograms/spectrogram_0975.png', 'spectrograms/spectrogram_0976.png', 'spectrograms/spectrogram_0977.png', 'spectrograms/spectrogram_0978.png', 'spectrograms/spectrogram_0979.png', 'spectrograms/spectrogram_0980.png', 'spectrograms/spectrogram_0981.png', 'spectrograms/spectrogram_0982.png', 'spectrograms/spectrogram_0983.png', 'spectrograms/spectrogram_0984.png', 'spectrograms/spectrogram_0985.png', 'spectrograms/spectrogram_0986.png', 'spectrograms/spectrogram_0987.png', 'spectrograms/spectrogram_0988.png', 'spectrograms/spectrogram_0989.png', 'spectrograms/spectrogram_0990.png', 'spectrograms/spectrogram_0991.png', 'spectrograms/spectrogram_0992.png', 'spectrograms/spectrogram_0993.png', 'spectrograms/spectrogram_0994.png', 'spectrograms/spectrogram_0995.png', 'spectrograms/spectrogram_0996.png', 'spectrograms/spectrogram_0997.png', 'spectrograms/spectrogram_0998.png', 'spectrograms/spectrogram_0999.png', 'spectrograms/spectrogram_1000.png', 'spectrograms/spectrogram_1001.png', 'spectrograms/spectrogram_1002.png', 'spectrograms/spectrogram_1003.png', 'spectrograms/spectrogram_1004.png', 'spectrograms/spectrogram_1005.png', 'spectrograms/spectrogram_1006.png', 'spectrograms/spectrogram_1007.png', 'spectrograms/spectrogram_1008.png', 'spectrograms/spectrogram_1009.png', 'spectrograms/spectrogram_1010.png', 'spectrograms/spectrogram_1011.png', 'spectrograms/spectrogram_1012.png', 'spectrograms/spectrogram_1013.png', 'spectrograms/spectrogram_1014.png', 'spectrograms/spectrogram_1015.png', 'spectrograms/spectrogram_1016.png', 'spectrograms/spectrogram_1017.png', 'spectrograms/spectrogram_1018.png', 'spectrograms/spectrogram_1019.png', 'spectrograms/spectrogram_1020.png', 'spectrograms/spectrogram_1021.png', 'spectrograms/spectrogram_1022.png', 'spectrograms/spectrogram_1023.png', 'spectrograms/spectrogram_1024.png', 'spectrograms/spectrogram_1025.png', 'spectrograms/spectrogram_1026.png', 'spectrograms/spectrogram_1027.png', 'spectrograms/spectrogram_1028.png', 'spectrograms/spectrogram_1029.png', 'spectrograms/spectrogram_1030.png', 'spectrograms/spectrogram_1031.png', 'spectrograms/spectrogram_1032.png', 'spectrograms/spectrogram_1033.png', 'spectrograms/spectrogram_1034.png', 'spectrograms/spectrogram_1035.png', 'spectrograms/spectrogram_1036.png', 'spectrograms/spectrogram_1037.png', 'spectrograms/spectrogram_1038.png', 'spectrograms/spectrogram_1039.png', 'spectrograms/spectrogram_1040.png', 'spectrograms/spectrogram_1041.png', 'spectrograms/spectrogram_1042.png', 'spectrograms/spectrogram_1043.png', 'spectrograms/spectrogram_1044.png', 'spectrograms/spectrogram_1045.png', 'spectrograms/spectrogram_1046.png', 'spectrograms/spectrogram_1047.png', 'spectrograms/spectrogram_1048.png', 'spectrograms/spectrogram_1049.png', 'spectrograms/spectrogram_1050.png', 'spectrograms/spectrogram_1051.png', 'spectrograms/spectrogram_1052.png', 'spectrograms/spectrogram_1053.png', 'spectrograms/spectrogram_1054.png', 'spectrograms/spectrogram_1055.png', 'spectrograms/spectrogram_1056.png', 'spectrograms/spectrogram_1057.png', 'spectrograms/spectrogram_1058.png', 'spectrograms/spectrogram_1059.png', 'spectrograms/spectrogram_1060.png', 'spectrograms/spectrogram_1061.png', 'spectrograms/spectrogram_1062.png', 'spectrograms/spectrogram_1063.png', 'spectrograms/spectrogram_1064.png', 'spectrograms/spectrogram_1065.png', 'spectrograms/spectrogram_1066.png', 'spectrograms/spectrogram_1067.png', 'spectrograms/spectrogram_1068.png', 'spectrograms/spectrogram_1069.png', 'spectrograms/spectrogram_1070.png', 'spectrograms/spectrogram_1071.png', 'spectrograms/spectrogram_1072.png', 'spectrograms/spectrogram_1073.png', 'spectrograms/spectrogram_1074.png', 'spectrograms/spectrogram_1075.png', 'spectrograms/spectrogram_1076.png', 'spectrograms/spectrogram_1077.png', 'spectrograms/spectrogram_1078.png', 'spectrograms/spectrogram_1079.png', 'spectrograms/spectrogram_1080.png', 'spectrograms/spectrogram_1081.png', 'spectrograms/spectrogram_1082.png', 'spectrograms/spectrogram_1083.png', 'spectrograms/spectrogram_1084.png', 'spectrograms/spectrogram_1085.png', 'spectrograms/spectrogram_1086.png', 'spectrograms/spectrogram_1087.png', 'spectrograms/spectrogram_1088.png', 'spectrograms/spectrogram_1089.png', 'spectrograms/spectrogram_1090.png', 'spectrograms/spectrogram_1091.png', 'spectrograms/spectrogram_1092.png', 'spectrograms/spectrogram_1093.png', 'spectrograms/spectrogram_1094.png', 'spectrograms/spectrogram_1095.png', 'spectrograms/spectrogram_1096.png', 'spectrograms/spectrogram_1097.png', 'spectrograms/spectrogram_1098.png', 'spectrograms/spectrogram_1099.png', 'spectrograms/spectrogram_1100.png', 'spectrograms/spectrogram_1101.png', 'spectrograms/spectrogram_1102.png', 'spectrograms/spectrogram_1103.png', 'spectrograms/spectrogram_1104.png', 'spectrograms/spectrogram_1105.png', 'spectrograms/spectrogram_1106.png', 'spectrograms/spectrogram_1107.png', 'spectrograms/spectrogram_1108.png', 'spectrograms/spectrogram_1109.png', 'spectrograms/spectrogram_1110.png', 'spectrograms/spectrogram_1111.png', 'spectrograms/spectrogram_1112.png', 'spectrograms/spectrogram_1113.png', 'spectrograms/spectrogram_1114.png', 'spectrograms/spectrogram_1115.png', 'spectrograms/spectrogram_1116.png', 'spectrograms/spectrogram_1117.png', 'spectrograms/spectrogram_1118.png', 'spectrograms/spectrogram_1119.png', 'spectrograms/spectrogram_1120.png', 'spectrograms/spectrogram_1121.png', 'spectrograms/spectrogram_1122.png', 'spectrograms/spectrogram_1123.png', 'spectrograms/spectrogram_1124.png', 'spectrograms/spectrogram_1125.png', 'spectrograms/spectrogram_1126.png', 'spectrograms/spectrogram_1127.png', 'spectrograms/spectrogram_1128.png', 'spectrograms/spectrogram_1129.png', 'spectrograms/spectrogram_1130.png', 'spectrograms/spectrogram_1131.png', 'spectrograms/spectrogram_1132.png', 'spectrograms/spectrogram_1133.png', 'spectrograms/spectrogram_1134.png', 'spectrograms/spectrogram_1135.png', 'spectrograms/spectrogram_1136.png', 'spectrograms/spectrogram_1137.png', 'spectrograms/spectrogram_1138.png', 'spectrograms/spectrogram_1139.png', 'spectrograms/spectrogram_1140.png', 'spectrograms/spectrogram_1141.png', 'spectrograms/spectrogram_1142.png', 'spectrograms/spectrogram_1143.png', 'spectrograms/spectrogram_1144.png', 'spectrograms/spectrogram_1145.png', 'spectrograms/spectrogram_1146.png', 'spectrograms/spectrogram_1147.png', 'spectrograms/spectrogram_1148.png', 'spectrograms/spectrogram_1149.png', 'spectrograms/spectrogram_1150.png', 'spectrograms/spectrogram_1151.png', 'spectrograms/spectrogram_1152.png', 'spectrograms/spectrogram_1153.png', 'spectrograms/spectrogram_1154.png', 'spectrograms/spectrogram_1155.png', 'spectrograms/spectrogram_1156.png', 'spectrograms/spectrogram_1157.png', 'spectrograms/spectrogram_1158.png', 'spectrograms/spectrogram_1159.png', 'spectrograms/spectrogram_1160.png', 'spectrograms/spectrogram_1161.png', 'spectrograms/spectrogram_1162.png', 'spectrograms/spectrogram_1163.png', 'spectrograms/spectrogram_1164.png', 'spectrograms/spectrogram_1165.png', 'spectrograms/spectrogram_1166.png', 'spectrograms/spectrogram_1167.png', 'spectrograms/spectrogram_1168.png', 'spectrograms/spectrogram_1169.png', 'spectrograms/spectrogram_1170.png', 'spectrograms/spectrogram_1171.png', 'spectrograms/spectrogram_1172.png', 'spectrograms/spectrogram_1173.png', 'spectrograms/spectrogram_1174.png', 'spectrograms/spectrogram_1175.png', 'spectrograms/spectrogram_1176.png', 'spectrograms/spectrogram_1177.png', 'spectrograms/spectrogram_1178.png', 'spectrograms/spectrogram_1179.png', 'spectrograms/spectrogram_1180.png', 'spectrograms/spectrogram_1181.png', 'spectrograms/spectrogram_1182.png', 'spectrograms/spectrogram_1183.png', 'spectrograms/spectrogram_1184.png', 'spectrograms/spectrogram_1185.png', 'spectrograms/spectrogram_1186.png', 'spectrograms/spectrogram_1187.png', 'spectrograms/spectrogram_1188.png', 'spectrograms/spectrogram_1189.png', 'spectrograms/spectrogram_1190.png', 'spectrograms/spectrogram_1191.png', 'spectrograms/spectrogram_1192.png', 'spectrograms/spectrogram_1193.png', 'spectrograms/spectrogram_1194.png', 'spectrograms/spectrogram_1195.png', 'spectrograms/spectrogram_1196.png', 'spectrograms/spectrogram_1197.png', 'spectrograms/spectrogram_1198.png', 'spectrograms/spectrogram_1199.png', 'spectrograms/spectrogram_1200.png', 'spectrograms/spectrogram_1201.png', 'spectrograms/spectrogram_1202.png', 'spectrograms/spectrogram_1203.png', 'spectrograms/spectrogram_1204.png', 'spectrograms/spectrogram_1205.png', 'spectrograms/spectrogram_1206.png', 'spectrograms/spectrogram_1207.png', 'spectrograms/spectrogram_1208.png', 'spectrograms/spectrogram_1209.png', 'spectrograms/spectrogram_1210.png', 'spectrograms/spectrogram_1211.png', 'spectrograms/spectrogram_1212.png', 'spectrograms/spectrogram_1213.png', 'spectrograms/spectrogram_1214.png', 'spectrograms/spectrogram_1215.png', 'spectrograms/spectrogram_1216.png', 'spectrograms/spectrogram_1217.png', 'spectrograms/spectrogram_1218.png', 'spectrograms/spectrogram_1219.png', 'spectrograms/spectrogram_1220.png', 'spectrograms/spectrogram_1221.png', 'spectrograms/spectrogram_1222.png', 'spectrograms/spectrogram_1223.png', 'spectrograms/spectrogram_1224.png', 'spectrograms/spectrogram_1225.png', 'spectrograms/spectrogram_1226.png', 'spectrograms/spectrogram_1227.png', 'spectrograms/spectrogram_1228.png', 'spectrograms/spectrogram_1229.png', 'spectrograms/spectrogram_1230.png', 'spectrograms/spectrogram_1231.png', 'spectrograms/spectrogram_1232.png', 'spectrograms/spectrogram_1233.png', 'spectrograms/spectrogram_1234.png', 'spectrograms/spectrogram_1235.png', 'spectrograms/spectrogram_1236.png', 'spectrograms/spectrogram_1237.png', 'spectrograms/spectrogram_1238.png', 'spectrograms/spectrogram_1239.png', 'spectrograms/spectrogram_1240.png', 'spectrograms/spectrogram_1241.png', 'spectrograms/spectrogram_1242.png', 'spectrograms/spectrogram_1243.png', 'spectrograms/spectrogram_1244.png', 'spectrograms/spectrogram_1245.png', 'spectrograms/spectrogram_1246.png', 'spectrograms/spectrogram_1247.png', 'spectrograms/spectrogram_1248.png', 'spectrograms/spectrogram_1249.png', 'spectrograms/spectrogram_1250.png', 'spectrograms/spectrogram_1251.png', 'spectrograms/spectrogram_1252.png', 'spectrograms/spectrogram_1253.png', 'spectrograms/spectrogram_1254.png', 'spectrograms/spectrogram_1255.png', 'spectrograms/spectrogram_1256.png', 'spectrograms/spectrogram_1257.png', 'spectrograms/spectrogram_1258.png', 'spectrograms/spectrogram_1259.png', 'spectrograms/spectrogram_1260.png', 'spectrograms/spectrogram_1261.png', 'spectrograms/spectrogram_1262.png', 'spectrograms/spectrogram_1263.png', 'spectrograms/spectrogram_1264.png', 'spectrograms/spectrogram_1265.png', 'spectrograms/spectrogram_1266.png', 'spectrograms/spectrogram_1267.png', 'spectrograms/spectrogram_1268.png', 'spectrograms/spectrogram_1269.png', 'spectrograms/spectrogram_1270.png', 'spectrograms/spectrogram_1271.png', 'spectrograms/spectrogram_1272.png', 'spectrograms/spectrogram_1273.png', 'spectrograms/spectrogram_1274.png', 'spectrograms/spectrogram_1275.png', 'spectrograms/spectrogram_1276.png', 'spectrograms/spectrogram_1277.png', 'spectrograms/spectrogram_1278.png', 'spectrograms/spectrogram_1279.png', 'spectrograms/spectrogram_1280.png', 'spectrograms/spectrogram_1281.png', 'spectrograms/spectrogram_1282.png', 'spectrograms/spectrogram_1283.png', 'spectrograms/spectrogram_1284.png', 'spectrograms/spectrogram_1285.png', 'spectrograms/spectrogram_1286.png', 'spectrograms/spectrogram_1287.png', 'spectrograms/spectrogram_1288.png', 'spectrograms/spectrogram_1289.png', 'spectrograms/spectrogram_1290.png', 'spectrograms/spectrogram_1291.png', 'spectrograms/spectrogram_1292.png', 'spectrograms/spectrogram_1293.png', 'spectrograms/spectrogram_1294.png', 'spectrograms/spectrogram_1295.png', 'spectrograms/spectrogram_1296.png', 'spectrograms/spectrogram_1297.png', 'spectrograms/spectrogram_1298.png', 'spectrograms/spectrogram_1299.png', 'spectrograms/spectrogram_1300.png', 'spectrograms/spectrogram_1301.png', 'spectrograms/spectrogram_1302.png', 'spectrograms/spectrogram_1303.png', 'spectrograms/spectrogram_1304.png', 'spectrograms/spectrogram_1305.png', 'spectrograms/spectrogram_1306.png', 'spectrograms/spectrogram_1307.png', 'spectrograms/spectrogram_1308.png', 'spectrograms/spectrogram_1309.png', 'spectrograms/spectrogram_1310.png', 'spectrograms/spectrogram_1311.png', 'spectrograms/spectrogram_1312.png', 'spectrograms/spectrogram_1313.png', 'spectrograms/spectrogram_1314.png', 'spectrograms/spectrogram_1315.png', 'spectrograms/spectrogram_1316.png', 'spectrograms/spectrogram_1317.png', 'spectrograms/spectrogram_1318.png', 'spectrograms/spectrogram_1319.png', 'spectrograms/spectrogram_1320.png', 'spectrograms/spectrogram_1321.png', 'spectrograms/spectrogram_1322.png', 'spectrograms/spectrogram_1323.png', 'spectrograms/spectrogram_1324.png', 'spectrograms/spectrogram_1325.png', 'spectrograms/spectrogram_1326.png', 'spectrograms/spectrogram_1327.png', 'spectrograms/spectrogram_1328.png', 'spectrograms/spectrogram_1329.png', 'spectrograms/spectrogram_1330.png', 'spectrograms/spectrogram_1331.png', 'spectrograms/spectrogram_1332.png', 'spectrograms/spectrogram_1333.png', 'spectrograms/spectrogram_1334.png', 'spectrograms/spectrogram_1335.png', 'spectrograms/spectrogram_1336.png', 'spectrograms/spectrogram_1337.png', 'spectrograms/spectrogram_1338.png', 'spectrograms/spectrogram_1339.png', 'spectrograms/spectrogram_1340.png', 'spectrograms/spectrogram_1341.png', 'spectrograms/spectrogram_1342.png', 'spectrograms/spectrogram_1343.png', 'spectrograms/spectrogram_1344.png', 'spectrograms/spectrogram_1345.png', 'spectrograms/spectrogram_1346.png', 'spectrograms/spectrogram_1347.png', 'spectrograms/spectrogram_1348.png', 'spectrograms/spectrogram_1349.png', 'spectrograms/spectrogram_1350.png', 'spectrograms/spectrogram_1351.png', 'spectrograms/spectrogram_1352.png', 'spectrograms/spectrogram_1353.png', 'spectrograms/spectrogram_1354.png', 'spectrograms/spectrogram_1355.png', 'spectrograms/spectrogram_1356.png', 'spectrograms/spectrogram_1357.png', 'spectrograms/spectrogram_1358.png', 'spectrograms/spectrogram_1359.png', 'spectrograms/spectrogram_1360.png', 'spectrograms/spectrogram_1361.png', 'spectrograms/spectrogram_1362.png', 'spectrograms/spectrogram_1363.png', 'spectrograms/spectrogram_1364.png', 'spectrograms/spectrogram_1365.png', 'spectrograms/spectrogram_1366.png', 'spectrograms/spectrogram_1367.png', 'spectrograms/spectrogram_1368.png', 'spectrograms/spectrogram_1369.png', 'spectrograms/spectrogram_1370.png', 'spectrograms/spectrogram_1371.png', 'spectrograms/spectrogram_1372.png', 'spectrograms/spectrogram_1373.png', 'spectrograms/spectrogram_1374.png', 'spectrograms/spectrogram_1375.png', 'spectrograms/spectrogram_1376.png', 'spectrograms/spectrogram_1377.png', 'spectrograms/spectrogram_1378.png', 'spectrograms/spectrogram_1379.png', 'spectrograms/spectrogram_1380.png', 'spectrograms/spectrogram_1381.png', 'spectrograms/spectrogram_1382.png', 'spectrograms/spectrogram_1383.png', 'spectrograms/spectrogram_1384.png', 'spectrograms/spectrogram_1385.png', 'spectrograms/spectrogram_1386.png', 'spectrograms/spectrogram_1387.png', 'spectrograms/spectrogram_1388.png', 'spectrograms/spectrogram_1389.png', 'spectrograms/spectrogram_1390.png', 'spectrograms/spectrogram_1391.png', 'spectrograms/spectrogram_1392.png', 'spectrograms/spectrogram_1393.png', 'spectrograms/spectrogram_1394.png', 'spectrograms/spectrogram_1395.png', 'spectrograms/spectrogram_1396.png', 'spectrograms/spectrogram_1397.png', 'spectrograms/spectrogram_1398.png', 'spectrograms/spectrogram_1399.png', 'spectrograms/spectrogram_1400.png', 'spectrograms/spectrogram_1401.png', 'spectrograms/spectrogram_1402.png', 'spectrograms/spectrogram_1403.png', 'spectrograms/spectrogram_1404.png', 'spectrograms/spectrogram_1405.png', 'spectrograms/spectrogram_1406.png', 'spectrograms/spectrogram_1407.png', 'spectrograms/spectrogram_1408.png', 'spectrograms/spectrogram_1409.png', 'spectrograms/spectrogram_1410.png', 'spectrograms/spectrogram_1411.png', 'spectrograms/spectrogram_1412.png', 'spectrograms/spectrogram_1413.png', 'spectrograms/spectrogram_1414.png', 'spectrograms/spectrogram_1415.png', 'spectrograms/spectrogram_1416.png', 'spectrograms/spectrogram_1417.png', 'spectrograms/spectrogram_1418.png', 'spectrograms/spectrogram_1419.png', 'spectrograms/spectrogram_1420.png', 'spectrograms/spectrogram_1421.png', 'spectrograms/spectrogram_1422.png', 'spectrograms/spectrogram_1423.png', 'spectrograms/spectrogram_1424.png', 'spectrograms/spectrogram_1425.png', 'spectrograms/spectrogram_1426.png', 'spectrograms/spectrogram_1427.png', 'spectrograms/spectrogram_1428.png', 'spectrograms/spectrogram_1429.png', 'spectrograms/spectrogram_1430.png', 'spectrograms/spectrogram_1431.png', 'spectrograms/spectrogram_1432.png', 'spectrograms/spectrogram_1433.png', 'spectrograms/spectrogram_1434.png', 'spectrograms/spectrogram_1435.png', 'spectrograms/spectrogram_1436.png', 'spectrograms/spectrogram_1437.png', 'spectrograms/spectrogram_1438.png', 'spectrograms/spectrogram_1439.png', 'spectrograms/spectrogram_1440.png', 'spectrograms/spectrogram_1441.png', 'spectrograms/spectrogram_1442.png', 'spectrograms/spectrogram_1443.png', 'spectrograms/spectrogram_1444.png', 'spectrograms/spectrogram_1445.png', 'spectrograms/spectrogram_1446.png', 'spectrograms/spectrogram_1447.png', 'spectrograms/spectrogram_1448.png', 'spectrograms/spectrogram_1449.png', 'spectrograms/spectrogram_1450.png', 'spectrograms/spectrogram_1451.png', 'spectrograms/spectrogram_1452.png', 'spectrograms/spectrogram_1453.png', 'spectrograms/spectrogram_1454.png', 'spectrograms/spectrogram_1455.png', 'spectrograms/spectrogram_1456.png', 'spectrograms/spectrogram_1457.png', 'spectrograms/spectrogram_1458.png', 'spectrograms/spectrogram_1459.png', 'spectrograms/spectrogram_1460.png', 'spectrograms/spectrogram_1461.png', 'spectrograms/spectrogram_1462.png', 'spectrograms/spectrogram_1463.png', 'spectrograms/spectrogram_1464.png', 'spectrograms/spectrogram_1465.png', 'spectrograms/spectrogram_1466.png', 'spectrograms/spectrogram_1467.png', 'spectrograms/spectrogram_1468.png', 'spectrograms/spectrogram_1469.png', 'spectrograms/spectrogram_1470.png', 'spectrograms/spectrogram_1471.png', 'spectrograms/spectrogram_1472.png', 'spectrograms/spectrogram_1473.png', 'spectrograms/spectrogram_1474.png', 'spectrograms/spectrogram_1475.png', 'spectrograms/spectrogram_1476.png', 'spectrograms/spectrogram_1477.png', 'spectrograms/spectrogram_1478.png', 'spectrograms/spectrogram_1479.png', 'spectrograms/spectrogram_1480.png', 'spectrograms/spectrogram_1481.png', 'spectrograms/spectrogram_1482.png', 'spectrograms/spectrogram_1483.png', 'spectrograms/spectrogram_1484.png', 'spectrograms/spectrogram_1485.png', 'spectrograms/spectrogram_1486.png', 'spectrograms/spectrogram_1487.png', 'spectrograms/spectrogram_1488.png', 'spectrograms/spectrogram_1489.png', 'spectrograms/spectrogram_1490.png', 'spectrograms/spectrogram_1491.png', 'spectrograms/spectrogram_1492.png', 'spectrograms/spectrogram_1493.png', 'spectrograms/spectrogram_1494.png', 'spectrograms/spectrogram_1495.png', 'spectrograms/spectrogram_1496.png', 'spectrograms/spectrogram_1497.png', 'spectrograms/spectrogram_1498.png', 'spectrograms/spectrogram_1499.png', 'spectrograms/spectrogram_1500.png', 'spectrograms/spectrogram_1501.png', 'spectrograms/spectrogram_1502.png', 'spectrograms/spectrogram_1503.png', 'spectrograms/spectrogram_1504.png', 'spectrograms/spectrogram_1505.png', 'spectrograms/spectrogram_1506.png', 'spectrograms/spectrogram_1507.png', 'spectrograms/spectrogram_1508.png', 'spectrograms/spectrogram_1509.png', 'spectrograms/spectrogram_1510.png', 'spectrograms/spectrogram_1511.png', 'spectrograms/spectrogram_1512.png', 'spectrograms/spectrogram_1513.png', 'spectrograms/spectrogram_1514.png', 'spectrograms/spectrogram_1515.png', 'spectrograms/spectrogram_1516.png', 'spectrograms/spectrogram_1517.png', 'spectrograms/spectrogram_1518.png', 'spectrograms/spectrogram_1519.png', 'spectrograms/spectrogram_1520.png', 'spectrograms/spectrogram_1521.png', 'spectrograms/spectrogram_1522.png', 'spectrograms/spectrogram_1523.png', 'spectrograms/spectrogram_1524.png', 'spectrograms/spectrogram_1525.png', 'spectrograms/spectrogram_1526.png', 'spectrograms/spectrogram_1527.png', 'spectrograms/spectrogram_1528.png', 'spectrograms/spectrogram_1529.png', 'spectrograms/spectrogram_1530.png', 'spectrograms/spectrogram_1531.png', 'spectrograms/spectrogram_1532.png', 'spectrograms/spectrogram_1533.png', 'spectrograms/spectrogram_1534.png', 'spectrograms/spectrogram_1535.png', 'spectrograms/spectrogram_1536.png', 'spectrograms/spectrogram_1537.png', 'spectrograms/spectrogram_1538.png', 'spectrograms/spectrogram_1539.png', 'spectrograms/spectrogram_1540.png', 'spectrograms/spectrogram_1541.png', 'spectrograms/spectrogram_1542.png', 'spectrograms/spectrogram_1543.png', 'spectrograms/spectrogram_1544.png', 'spectrograms/spectrogram_1545.png', 'spectrograms/spectrogram_1546.png', 'spectrograms/spectrogram_1547.png', 'spectrograms/spectrogram_1548.png', 'spectrograms/spectrogram_1549.png', 'spectrograms/spectrogram_1550.png', 'spectrograms/spectrogram_1551.png', 'spectrograms/spectrogram_1552.png', 'spectrograms/spectrogram_1553.png', 'spectrograms/spectrogram_1554.png', 'spectrograms/spectrogram_1555.png', 'spectrograms/spectrogram_1556.png', 'spectrograms/spectrogram_1557.png', 'spectrograms/spectrogram_1558.png', 'spectrograms/spectrogram_1559.png', 'spectrograms/spectrogram_1560.png', 'spectrograms/spectrogram_1561.png', 'spectrograms/spectrogram_1562.png', 'spectrograms/spectrogram_1563.png', 'spectrograms/spectrogram_1564.png', 'spectrograms/spectrogram_1565.png', 'spectrograms/spectrogram_1566.png', 'spectrograms/spectrogram_1567.png', 'spectrograms/spectrogram_1568.png', 'spectrograms/spectrogram_1569.png', 'spectrograms/spectrogram_1570.png', 'spectrograms/spectrogram_1571.png', 'spectrograms/spectrogram_1572.png', 'spectrograms/spectrogram_1573.png', 'spectrograms/spectrogram_1574.png', 'spectrograms/spectrogram_1575.png', 'spectrograms/spectrogram_1576.png', 'spectrograms/spectrogram_1577.png', 'spectrograms/spectrogram_1578.png', 'spectrograms/spectrogram_1579.png', 'spectrograms/spectrogram_1580.png', 'spectrograms/spectrogram_1581.png', 'spectrograms/spectrogram_1582.png', 'spectrograms/spectrogram_1583.png', 'spectrograms/spectrogram_1584.png', 'spectrograms/spectrogram_1585.png', 'spectrograms/spectrogram_1586.png', 'spectrograms/spectrogram_1587.png', 'spectrograms/spectrogram_1588.png', 'spectrograms/spectrogram_1589.png', 'spectrograms/spectrogram_1590.png', 'spectrograms/spectrogram_1591.png', 'spectrograms/spectrogram_1592.png', 'spectrograms/spectrogram_1593.png', 'spectrograms/spectrogram_1594.png', 'spectrograms/spectrogram_1595.png', 'spectrograms/spectrogram_1596.png', 'spectrograms/spectrogram_1597.png', 'spectrograms/spectrogram_1598.png', 'spectrograms/spectrogram_1599.png', 'spectrograms/spectrogram_1600.png', 'spectrograms/spectrogram_1601.png', 'spectrograms/spectrogram_1602.png', 'spectrograms/spectrogram_1603.png', 'spectrograms/spectrogram_1604.png', 'spectrograms/spectrogram_1605.png', 'spectrograms/spectrogram_1606.png', 'spectrograms/spectrogram_1607.png', 'spectrograms/spectrogram_1608.png', 'spectrograms/spectrogram_1609.png', 'spectrograms/spectrogram_1610.png', 'spectrograms/spectrogram_1611.png', 'spectrograms/spectrogram_1612.png', 'spectrograms/spectrogram_1613.png', 'spectrograms/spectrogram_1614.png', 'spectrograms/spectrogram_1615.png', 'spectrograms/spectrogram_1616.png', 'spectrograms/spectrogram_1617.png', 'spectrograms/spectrogram_1618.png', 'spectrograms/spectrogram_1619.png', 'spectrograms/spectrogram_1620.png', 'spectrograms/spectrogram_1621.png', 'spectrograms/spectrogram_1622.png', 'spectrograms/spectrogram_1623.png', 'spectrograms/spectrogram_1624.png', 'spectrograms/spectrogram_1625.png', 'spectrograms/spectrogram_1626.png', 'spectrograms/spectrogram_1627.png', 'spectrograms/spectrogram_1628.png', 'spectrograms/spectrogram_1629.png', 'spectrograms/spectrogram_1630.png', 'spectrograms/spectrogram_1631.png', 'spectrograms/spectrogram_1632.png', 'spectrograms/spectrogram_1633.png', 'spectrograms/spectrogram_1634.png', 'spectrograms/spectrogram_1635.png', 'spectrograms/spectrogram_1636.png', 'spectrograms/spectrogram_1637.png', 'spectrograms/spectrogram_1638.png', 'spectrograms/spectrogram_1639.png', 'spectrograms/spectrogram_1640.png', 'spectrograms/spectrogram_1641.png', 'spectrograms/spectrogram_1642.png', 'spectrograms/spectrogram_1643.png', 'spectrograms/spectrogram_1644.png', 'spectrograms/spectrogram_1645.png', 'spectrograms/spectrogram_1646.png', 'spectrograms/spectrogram_1647.png', 'spectrograms/spectrogram_1648.png', 'spectrograms/spectrogram_1649.png', 'spectrograms/spectrogram_1650.png', 'spectrograms/spectrogram_1651.png', 'spectrograms/spectrogram_1652.png', 'spectrograms/spectrogram_1653.png', 'spectrograms/spectrogram_1654.png', 'spectrograms/spectrogram_1655.png', 'spectrograms/spectrogram_1656.png', 'spectrograms/spectrogram_1657.png', 'spectrograms/spectrogram_1658.png', 'spectrograms/spectrogram_1659.png', 'spectrograms/spectrogram_1660.png', 'spectrograms/spectrogram_1661.png', 'spectrograms/spectrogram_1662.png', 'spectrograms/spectrogram_1663.png', 'spectrograms/spectrogram_1664.png', 'spectrograms/spectrogram_1665.png', 'spectrograms/spectrogram_1666.png', 'spectrograms/spectrogram_1667.png', 'spectrograms/spectrogram_1668.png', 'spectrograms/spectrogram_1669.png', 'spectrograms/spectrogram_1670.png', 'spectrograms/spectrogram_1671.png', 'spectrograms/spectrogram_1672.png', 'spectrograms/spectrogram_1673.png', 'spectrograms/spectrogram_1674.png', 'spectrograms/spectrogram_1675.png', 'spectrograms/spectrogram_1676.png', 'spectrograms/spectrogram_1677.png', 'spectrograms/spectrogram_1678.png', 'spectrograms/spectrogram_1679.png', 'spectrograms/spectrogram_1680.png', 'spectrograms/spectrogram_1681.png', 'spectrograms/spectrogram_1682.png', 'spectrograms/spectrogram_1683.png', 'spectrograms/spectrogram_1684.png', 'spectrograms/spectrogram_1685.png', 'spectrograms/spectrogram_1686.png', 'spectrograms/spectrogram_1687.png', 'spectrograms/spectrogram_1688.png', 'spectrograms/spectrogram_1689.png', 'spectrograms/spectrogram_1690.png', 'spectrograms/spectrogram_1691.png', 'spectrograms/spectrogram_1692.png', 'spectrograms/spectrogram_1693.png', 'spectrograms/spectrogram_1694.png', 'spectrograms/spectrogram_1695.png', 'spectrograms/spectrogram_1696.png', 'spectrograms/spectrogram_1697.png', 'spectrograms/spectrogram_1698.png', 'spectrograms/spectrogram_1699.png', 'spectrograms/spectrogram_1700.png', 'spectrograms/spectrogram_1701.png', 'spectrograms/spectrogram_1702.png', 'spectrograms/spectrogram_1703.png', 'spectrograms/spectrogram_1704.png', 'spectrograms/spectrogram_1705.png', 'spectrograms/spectrogram_1706.png', 'spectrograms/spectrogram_1707.png', 'spectrograms/spectrogram_1708.png', 'spectrograms/spectrogram_1709.png', 'spectrograms/spectrogram_1710.png', 'spectrograms/spectrogram_1711.png', 'spectrograms/spectrogram_1712.png', 'spectrograms/spectrogram_1713.png', 'spectrograms/spectrogram_1714.png', 'spectrograms/spectrogram_1715.png', 'spectrograms/spectrogram_1716.png', 'spectrograms/spectrogram_1717.png', 'spectrograms/spectrogram_1718.png', 'spectrograms/spectrogram_1719.png', 'spectrograms/spectrogram_1720.png', 'spectrograms/spectrogram_1721.png', 'spectrograms/spectrogram_1722.png', 'spectrograms/spectrogram_1723.png', 'spectrograms/spectrogram_1724.png', 'spectrograms/spectrogram_1725.png', 'spectrograms/spectrogram_1726.png', 'spectrograms/spectrogram_1727.png', 'spectrograms/spectrogram_1728.png', 'spectrograms/spectrogram_1729.png', 'spectrograms/spectrogram_1730.png', 'spectrograms/spectrogram_1731.png', 'spectrograms/spectrogram_1732.png', 'spectrograms/spectrogram_1733.png', 'spectrograms/spectrogram_1734.png', 'spectrograms/spectrogram_1735.png', 'spectrograms/spectrogram_1736.png', 'spectrograms/spectrogram_1737.png', 'spectrograms/spectrogram_1738.png', 'spectrograms/spectrogram_1739.png', 'spectrograms/spectrogram_1740.png', 'spectrograms/spectrogram_1741.png', 'spectrograms/spectrogram_1742.png', 'spectrograms/spectrogram_1743.png', 'spectrograms/spectrogram_1744.png', 'spectrograms/spectrogram_1745.png', 'spectrograms/spectrogram_1746.png', 'spectrograms/spectrogram_1747.png', 'spectrograms/spectrogram_1748.png', 'spectrograms/spectrogram_1749.png', 'spectrograms/spectrogram_1750.png', 'spectrograms/spectrogram_1751.png', 'spectrograms/spectrogram_1752.png', 'spectrograms/spectrogram_1753.png', 'spectrograms/spectrogram_1754.png', 'spectrograms/spectrogram_1755.png', 'spectrograms/spectrogram_1756.png', 'spectrograms/spectrogram_1757.png', 'spectrograms/spectrogram_1758.png', 'spectrograms/spectrogram_1759.png', 'spectrograms/spectrogram_1760.png', 'spectrograms/spectrogram_1761.png', 'spectrograms/spectrogram_1762.png', 'spectrograms/spectrogram_1763.png', 'spectrograms/spectrogram_1764.png', 'spectrograms/spectrogram_1765.png', 'spectrograms/spectrogram_1766.png', 'spectrograms/spectrogram_1767.png', 'spectrograms/spectrogram_1768.png', 'spectrograms/spectrogram_1769.png', 'spectrograms/spectrogram_1770.png', 'spectrograms/spectrogram_1771.png', 'spectrograms/spectrogram_1772.png', 'spectrograms/spectrogram_1773.png', 'spectrograms/spectrogram_1774.png', 'spectrograms/spectrogram_1775.png', 'spectrograms/spectrogram_1776.png', 'spectrograms/spectrogram_1777.png', 'spectrograms/spectrogram_1778.png', 'spectrograms/spectrogram_1779.png', 'spectrograms/spectrogram_1780.png', 'spectrograms/spectrogram_1781.png', 'spectrograms/spectrogram_1782.png', 'spectrograms/spectrogram_1783.png', 'spectrograms/spectrogram_1784.png', 'spectrograms/spectrogram_1785.png', 'spectrograms/spectrogram_1786.png', 'spectrograms/spectrogram_1787.png', 'spectrograms/spectrogram_1788.png', 'spectrograms/spectrogram_1789.png', 'spectrograms/spectrogram_1790.png', 'spectrograms/spectrogram_1791.png', 'spectrograms/spectrogram_1792.png', 'spectrograms/spectrogram_1793.png', 'spectrograms/spectrogram_1794.png', 'spectrograms/spectrogram_1795.png', 'spectrograms/spectrogram_1796.png', 'spectrograms/spectrogram_1797.png', 'spectrograms/spectrogram_1798.png', 'spectrograms/spectrogram_1799.png', 'spectrograms/spectrogram_1800.png', 'spectrograms/spectrogram_1801.png', 'spectrograms/spectrogram_1802.png', 'spectrograms/spectrogram_1803.png', 'spectrograms/spectrogram_1804.png', 'spectrograms/spectrogram_1805.png', 'spectrograms/spectrogram_1806.png', 'spectrograms/spectrogram_1807.png', 'spectrograms/spectrogram_1808.png', 'spectrograms/spectrogram_1809.png', 'spectrograms/spectrogram_1810.png', 'spectrograms/spectrogram_1811.png', 'spectrograms/spectrogram_1812.png', 'spectrograms/spectrogram_1813.png', 'spectrograms/spectrogram_1814.png', 'spectrograms/spectrogram_1815.png', 'spectrograms/spectrogram_1816.png', 'spectrograms/spectrogram_1817.png', 'spectrograms/spectrogram_1818.png', 'spectrograms/spectrogram_1819.png', 'spectrograms/spectrogram_1820.png', 'spectrograms/spectrogram_1821.png', 'spectrograms/spectrogram_1822.png', 'spectrograms/spectrogram_1823.png', 'spectrograms/spectrogram_1824.png', 'spectrograms/spectrogram_1825.png', 'spectrograms/spectrogram_1826.png', 'spectrograms/spectrogram_1827.png', 'spectrograms/spectrogram_1828.png', 'spectrograms/spectrogram_1829.png', 'spectrograms/spectrogram_1830.png', 'spectrograms/spectrogram_1831.png', 'spectrograms/spectrogram_1832.png', 'spectrograms/spectrogram_1833.png', 'spectrograms/spectrogram_1834.png', 'spectrograms/spectrogram_1835.png', 'spectrograms/spectrogram_1836.png', 'spectrograms/spectrogram_1837.png', 'spectrograms/spectrogram_1838.png', 'spectrograms/spectrogram_1839.png', 'spectrograms/spectrogram_1840.png', 'spectrograms/spectrogram_1841.png', 'spectrograms/spectrogram_1842.png', 'spectrograms/spectrogram_1843.png', 'spectrograms/spectrogram_1844.png', 'spectrograms/spectrogram_1845.png', 'spectrograms/spectrogram_1846.png', 'spectrograms/spectrogram_1847.png', 'spectrograms/spectrogram_1848.png', 'spectrograms/spectrogram_1849.png', 'spectrograms/spectrogram_1850.png', 'spectrograms/spectrogram_1851.png', 'spectrograms/spectrogram_1852.png', 'spectrograms/spectrogram_1853.png', 'spectrograms/spectrogram_1854.png', 'spectrograms/spectrogram_1855.png', 'spectrograms/spectrogram_1856.png', 'spectrograms/spectrogram_1857.png', 'spectrograms/spectrogram_1858.png', 'spectrograms/spectrogram_1859.png', 'spectrograms/spectrogram_1860.png', 'spectrograms/spectrogram_1861.png', 'spectrograms/spectrogram_1862.png', 'spectrograms/spectrogram_1863.png', 'spectrograms/spectrogram_1864.png', 'spectrograms/spectrogram_1865.png', 'spectrograms/spectrogram_1866.png', 'spectrograms/spectrogram_1867.png', 'spectrograms/spectrogram_1868.png', 'spectrograms/spectrogram_1869.png', 'spectrograms/spectrogram_1870.png', 'spectrograms/spectrogram_1871.png', 'spectrograms/spectrogram_1872.png', 'spectrograms/spectrogram_1873.png', 'spectrograms/spectrogram_1874.png', 'spectrograms/spectrogram_1875.png', 'spectrograms/spectrogram_1876.png', 'spectrograms/spectrogram_1877.png', 'spectrograms/spectrogram_1878.png', 'spectrograms/spectrogram_1879.png', 'spectrograms/spectrogram_1880.png', 'spectrograms/spectrogram_1881.png', 'spectrograms/spectrogram_1882.png', 'spectrograms/spectrogram_1883.png', 'spectrograms/spectrogram_1884.png', 'spectrograms/spectrogram_1885.png', 'spectrograms/spectrogram_1886.png', 'spectrograms/spectrogram_1887.png', 'spectrograms/spectrogram_1888.png', 'spectrograms/spectrogram_1889.png', 'spectrograms/spectrogram_1890.png', 'spectrograms/spectrogram_1891.png', 'spectrograms/spectrogram_1892.png', 'spectrograms/spectrogram_1893.png', 'spectrograms/spectrogram_1894.png', 'spectrograms/spectrogram_1895.png', 'spectrograms/spectrogram_1896.png', 'spectrograms/spectrogram_1897.png', 'spectrograms/spectrogram_1898.png', 'spectrograms/spectrogram_1899.png', 'spectrograms/spectrogram_1900.png', 'spectrograms/spectrogram_1901.png', 'spectrograms/spectrogram_1902.png', 'spectrograms/spectrogram_1903.png', 'spectrograms/spectrogram_1904.png', 'spectrograms/spectrogram_1905.png', 'spectrograms/spectrogram_1906.png', 'spectrograms/spectrogram_1907.png', 'spectrograms/spectrogram_1908.png', 'spectrograms/spectrogram_1909.png', 'spectrograms/spectrogram_1910.png', 'spectrograms/spectrogram_1911.png', 'spectrograms/spectrogram_1912.png', 'spectrograms/spectrogram_1913.png', 'spectrograms/spectrogram_1914.png', 'spectrograms/spectrogram_1915.png', 'spectrograms/spectrogram_1916.png', 'spectrograms/spectrogram_1917.png', 'spectrograms/spectrogram_1918.png', 'spectrograms/spectrogram_1919.png', 'spectrograms/spectrogram_1920.png', 'spectrograms/spectrogram_1921.png', 'spectrograms/spectrogram_1922.png', 'spectrograms/spectrogram_1923.png', 'spectrograms/spectrogram_1924.png', 'spectrograms/spectrogram_1925.png', 'spectrograms/spectrogram_1926.png', 'spectrograms/spectrogram_1927.png', 'spectrograms/spectrogram_1928.png', 'spectrograms/spectrogram_1929.png', 'spectrograms/spectrogram_1930.png', 'spectrograms/spectrogram_1931.png', 'spectrograms/spectrogram_1932.png', 'spectrograms/spectrogram_1933.png', 'spectrograms/spectrogram_1934.png', 'spectrograms/spectrogram_1935.png', 'spectrograms/spectrogram_1936.png', 'spectrograms/spectrogram_1937.png', 'spectrograms/spectrogram_1938.png', 'spectrograms/spectrogram_1939.png', 'spectrograms/spectrogram_1940.png', 'spectrograms/spectrogram_1941.png', 'spectrograms/spectrogram_1942.png', 'spectrograms/spectrogram_1943.png', 'spectrograms/spectrogram_1944.png', 'spectrograms/spectrogram_1945.png', 'spectrograms/spectrogram_1946.png', 'spectrograms/spectrogram_1947.png', 'spectrograms/spectrogram_1948.png', 'spectrograms/spectrogram_1949.png', 'spectrograms/spectrogram_1950.png', 'spectrograms/spectrogram_1951.png', 'spectrograms/spectrogram_1952.png', 'spectrograms/spectrogram_1953.png', 'spectrograms/spectrogram_1954.png', 'spectrograms/spectrogram_1955.png', 'spectrograms/spectrogram_1956.png', 'spectrograms/spectrogram_1957.png', 'spectrograms/spectrogram_1958.png', 'spectrograms/spectrogram_1959.png', 'spectrograms/spectrogram_1960.png', 'spectrograms/spectrogram_1961.png', 'spectrograms/spectrogram_1962.png', 'spectrograms/spectrogram_1963.png', 'spectrograms/spectrogram_1964.png', 'spectrograms/spectrogram_1965.png', 'spectrograms/spectrogram_1966.png', 'spectrograms/spectrogram_1967.png', 'spectrograms/spectrogram_1968.png', 'spectrograms/spectrogram_1969.png', 'spectrograms/spectrogram_1970.png', 'spectrograms/spectrogram_1971.png', 'spectrograms/spectrogram_1972.png', 'spectrograms/spectrogram_1973.png', 'spectrograms/spectrogram_1974.png', 'spectrograms/spectrogram_1975.png', 'spectrograms/spectrogram_1976.png', 'spectrograms/spectrogram_1977.png', 'spectrograms/spectrogram_1978.png', 'spectrograms/spectrogram_1979.png', 'spectrograms/spectrogram_1980.png', 'spectrograms/spectrogram_1981.png', 'spectrograms/spectrogram_1982.png', 'spectrograms/spectrogram_1983.png', 'spectrograms/spectrogram_1984.png', 'spectrograms/spectrogram_1985.png', 'spectrograms/spectrogram_1986.png', 'spectrograms/spectrogram_1987.png', 'spectrograms/spectrogram_1988.png', 'spectrograms/spectrogram_1989.png', 'spectrograms/spectrogram_1990.png', 'spectrograms/spectrogram_1991.png', 'spectrograms/spectrogram_1992.png', 'spectrograms/spectrogram_1993.png', 'spectrograms/spectrogram_1994.png', 'spectrograms/spectrogram_1995.png', 'spectrograms/spectrogram_1996.png', 'spectrograms/spectrogram_1997.png', 'spectrograms/spectrogram_1998.png', 'spectrograms/spectrogram_1999.png']\n"
     ]
    }
   ],
   "source": [
    "# Get access to zip-archive\n",
    "archive = zipfile.ZipFile('../data/spectrograms.zip', 'r')\n",
    "imgdata = archive.read('spectrograms/spectrogram_0000.png')\n",
    "\n",
    "files = sorted([f for f in archive.namelist()[1:] if f.startswith('spectrograms/') and f.endswith('.png')])\n",
    "\n",
    "print(files)"
   ]
  },
  {
   "cell_type": "markdown",
   "metadata": {
    "colab_type": "text",
    "id": "HwPELvjTlUVq"
   },
   "source": [
    "# JFF: Get a feeling for the nature of the training and evaluation data:"
   ]
  },
  {
   "cell_type": "code",
   "execution_count": 0,
   "metadata": {
    "colab": {
     "base_uri": "https://localhost:8080/",
     "height": 213
    },
    "colab_type": "code",
    "id": "NQVlv_ISlUVr",
    "outputId": "ac122419-40e6-4895-f933-e529be86fde2"
   },
   "outputs": [
    {
     "name": "stdout",
     "output_type": "stream",
     "text": [
      "Type of image:\n",
      "<class 'numpy.ndarray'>\n",
      "Dimension of a single image file:\n",
      "(128, 128, 3)\n"
     ]
    },
    {
     "data": {
      "image/png": "[encoded data removed]",
      "text/plain": [
       "<PIL.Image.Image image mode=RGB size=128x128 at 0x7F31C5E576A0>"
      ]
     },
     "metadata": {
      "tags": []
     },
     "output_type": "display_data"
    }
   ],
   "source": [
    "# Interpret image-data as image\n",
    "from google.colab.patches import cv2_imshow\n",
    "image = cv2.imdecode(np.frombuffer(imgdata, dtype=np.uint8), 1)\n",
    "\n",
    "# Print some specs...\n",
    "print('Type of image:')\n",
    "print(type(image))\n",
    "print('Dimension of a single image file:')\n",
    "print(image.shape)\n",
    "\n",
    "# Show image visually (press any key in opening window in order to proceed in code...)\n",
    "cv2_imshow(image)\n",
    "cv2.waitKey(0)\n",
    "cv2.destroyAllWindows()"
   ]
  },
  {
   "cell_type": "markdown",
   "metadata": {
    "colab_type": "text",
    "id": "soB8dJTKlUVv"
   },
   "source": [
    "# Read in both training and testing data from zip archive:"
   ]
  },
  {
   "cell_type": "code",
   "execution_count": 0,
   "metadata": {
    "colab": {
     "base_uri": "https://localhost:8080/",
     "height": 102
    },
    "colab_type": "code",
    "id": "H7nWfAdulUVv",
    "outputId": "1260a213-d669-4bc3-8b9b-ed924a1e6dbc"
   },
   "outputs": [
    {
     "name": "stdout",
     "output_type": "stream",
     "text": [
      "Done reading in... Shape of data array rnn:\n",
      "(2000, 128, 128)\n",
      "Done reading in... Shape of data array cnn:\n",
      "(2000, 128, 128)\n",
      "Done.\n"
     ]
    }
   ],
   "source": [
    "data_set = []\n",
    "# Data storage\n",
    "combined_data_rnn = np.empty([1, 128, 128])\n",
    "\n",
    "combined_data_cnn = np.empty([1,128,128])\n",
    "# Read in images & store processed instances\n",
    "for f_name in files:\n",
    "    # Get image data from zip file\n",
    "    zip_img_data = archive.read(f_name)\n",
    "    image = cv2.imdecode(np.frombuffer(zip_img_data, dtype=np.uint8), 1)\n",
    "    \n",
    "    # Normalize image's colors to range [0, 1]\n",
    "    image = image / 255.0\n",
    "    \n",
    "    image_rnn = np.rot90(image, 3)\n",
    "    #cv2.imshow(\"Normalized Image\", image)\n",
    "    #cv2.waitKey(0)\n",
    "\n",
    "    # Grayscale image\n",
    "    gray_image = skimage.color.rgb2gray(image)\n",
    "    gray_image_rnn = skimage.color.rgb2gray(image_rnn)\n",
    "    #cv2.imshow(\"Grayscale Image\", gray_image)\n",
    "    #cv2.waitKey(0)\n",
    "    #cv2.destroyAllWindows()\n",
    "\n",
    "    # Store grayscaled image\n",
    "    combined_data_cnn = np.append(combined_data_cnn,[gray_image],axis=0)\n",
    "    combined_data_rnn = np.append(combined_data_rnn, [gray_image_rnn], axis=0)\n",
    "    \n",
    "# Remove initial, empty datapoint\n",
    "combined_data_rnn = combined_data_rnn[1:, :, :]\n",
    "\n",
    "combined_data_cnn = combined_data_cnn[1:,:,:]\n",
    "print('Done reading in... Shape of data array rnn:')\n",
    "print(combined_data_rnn.shape)\n",
    "\n",
    "print('Done reading in... Shape of data array cnn:')\n",
    "print(combined_data_cnn.shape)\n",
    "\n",
    "print('Done.')"
   ]
  },
  {
   "cell_type": "markdown",
   "metadata": {
    "colab_type": "text",
    "id": "xbllwnlNlUVz"
   },
   "source": [
    "# Read in labels:"
   ]
  },
  {
   "cell_type": "code",
   "execution_count": 0,
   "metadata": {
    "colab": {
     "base_uri": "https://localhost:8080/",
     "height": 34
    },
    "colab_type": "code",
    "id": "y2jXug6tlUV0",
    "outputId": "4c866efb-380e-4843-b787-cd361d341e67"
   },
   "outputs": [
    {
     "name": "stdout",
     "output_type": "stream",
     "text": [
      "[0. 0. 0. ... 9. 9. 9.]\n"
     ]
    }
   ],
   "source": [
    "labels_path = '/labels.txt'\n",
    "\n",
    "combined_labels = np.empty([1])\n",
    "\n",
    "with open(labels_path, 'r') as file:\n",
    "    for line in file:\n",
    "        combined_labels = np.append(combined_labels, [int(line)])\n",
    "\n",
    "# Remove initial, empty datapoint\n",
    "combined_labels = combined_labels[1:] \n",
    "print(combined_labels)"
   ]
  },
  {
   "cell_type": "markdown",
   "metadata": {
    "colab_type": "text",
    "id": "KIat0uS2lUV3"
   },
   "source": [
    "\n",
    "\n",
    "# Divide data into train and test data:\n",
    "\n",
    "------------------------------------------------------\n",
    "Training data will be contained in:    training_data\n",
    "Tetsing  data will be contained in:    testing_data\n",
    "\n",
    "Training labels will be contained in:  training_labels\n",
    "Tetsing  labels will be contained in:  testing_labels"
   ]
  },
  {
   "cell_type": "code",
   "execution_count": 0,
   "metadata": {
    "colab": {
     "base_uri": "https://localhost:8080/",
     "height": 190
    },
    "colab_type": "code",
    "id": "VUXl1-KPlUV4",
    "outputId": "ba01e1fc-a962-4caa-aa7a-af96f80cb9aa"
   },
   "outputs": [
    {
     "name": "stdout",
     "output_type": "stream",
     "text": [
      "Nr. test indices: 400\n",
      "Test indices: [2, 13, 14, 20, 25, 29, 36, 44, 49, 52, 75, 79, 81, 82, 87, 88, 90, 91, 93, 98, 99, 108, 109, 112, 116, 121, 125, 128, 134, 141, 148, 156, 161, 163, 164, 171, 175, 176, 177, 178, 179, 191, 199, 205, 207, 212, 223, 231, 233, 234, 241, 244, 246, 250, 262, 263, 305, 306, 308, 309, 314, 319, 328, 332, 337, 339, 342, 343, 349, 359, 367, 368, 369, 381, 388, 392, 397, 398, 407, 410, 416, 425, 434, 438, 440, 451, 457, 472, 473, 474, 483, 486, 490, 496, 505, 508, 509, 511, 517, 521, 525, 526, 528, 529, 530, 531, 535, 538, 539, 550, 560, 563, 567, 573, 576, 580, 587, 592, 595, 597, 616, 618, 619, 626, 631, 645, 652, 666, 667, 671, 673, 676, 677, 679, 685, 694, 700, 704, 706, 714, 723, 730, 737, 738, 739, 748, 751, 754, 761, 764, 768, 778, 780, 786, 789, 794, 798, 799, 806, 808, 810, 814, 818, 821, 824, 828, 832, 837, 852, 857, 872, 890, 894, 899, 900, 906, 916, 917, 921, 922, 923, 924, 926, 929, 931, 940, 943, 950, 952, 969, 972, 973, 987, 993, 997, 1004, 1016, 1020, 1029, 1034, 1035, 1036, 1038, 1043, 1046, 1048, 1054, 1055, 1060, 1063, 1064, 1067, 1068, 1070, 1077, 1080, 1084, 1085, 1089, 1097, 1100, 1102, 1104, 1106, 1112, 1115, 1124, 1125, 1127, 1128, 1138, 1140, 1145, 1154, 1167, 1170, 1175, 1179, 1181, 1183, 1184, 1185, 1186, 1189, 1192, 1195, 1199, 1208, 1211, 1215, 1222, 1238, 1243, 1245, 1250, 1252, 1254, 1255, 1258, 1259, 1264, 1268, 1270, 1277, 1283, 1285, 1288, 1296, 1310, 1315, 1319, 1324, 1335, 1336, 1343, 1355, 1356, 1357, 1366, 1369, 1372, 1373, 1385, 1387, 1390, 1391, 1404, 1408, 1409, 1410, 1420, 1422, 1424, 1425, 1429, 1433, 1436, 1442, 1449, 1451, 1454, 1460, 1465, 1466, 1468, 1470, 1481, 1483, 1487, 1489, 1497, 1500, 1501, 1503, 1504, 1510, 1516, 1530, 1534, 1535, 1539, 1545, 1551, 1561, 1566, 1573, 1585, 1586, 1589, 1604, 1606, 1607, 1614, 1616, 1624, 1630, 1641, 1643, 1644, 1647, 1654, 1655, 1658, 1674, 1684, 1692, 1698, 1705, 1711, 1713, 1717, 1723, 1728, 1737, 1746, 1760, 1771, 1773, 1775, 1777, 1783, 1787, 1793, 1795, 1799, 1805, 1806, 1814, 1825, 1828, 1834, 1837, 1846, 1848, 1850, 1854, 1865, 1869, 1870, 1877, 1878, 1887, 1893, 1898, 1906, 1908, 1909, 1918, 1923, 1929, 1935, 1937, 1939, 1949, 1965, 1970, 1974, 1990, 1992, 1999]\n",
      "Final:\n",
      "(1600, 128, 128)\n",
      "(1600,)\n",
      "(400, 128, 128)\n",
      "(400,)\n",
      "(1600, 128, 128, 1)\n",
      "(400, 128, 128, 1)\n"
     ]
    }
   ],
   "source": [
    "\n",
    "# Get set of test-indices which indicates the training data points that have to be reserved for training\n",
    "percentage_test_data = 0.2\n",
    "population = range(len(combined_labels))\n",
    "nr_samples = int(percentage_test_data * len(combined_labels))\n",
    "\n",
    "test_indices = random.sample(population, nr_samples)\n",
    "test_indices = sorted(test_indices)\n",
    "\n",
    "print('Nr. test indices: ' + str(len(test_indices)))\n",
    "print('Test indices: ' + str(test_indices))\n",
    "\n",
    "\n",
    "# Split data into training- and test data, respectively - Preparation: Create empty arrays in which to later insert data\n",
    "test_len = len(test_indices)\n",
    "train_len = len(combined_labels)-len(test_indices)\n",
    "training_data, training_labels = np.empty([train_len, 128, 128]), np.empty([train_len])\n",
    "testing_data, testing_labels = np.empty([test_len, 128, 128]), np.empty([test_len])\n",
    "\n",
    "training_data_cnn = np.empty([train_len, 128, 128])\n",
    "\n",
    "testing_data_cnn = np.empty([test_len,128,128])\n",
    "#combined_data_Ts = np.empty([,128,128,1])\n",
    "\n",
    "\n",
    "combined_data_flat = np.empty([train_len + test_len,128*128]) \n",
    "test_idx_list_idx = 0\n",
    "i = 0\n",
    "\n",
    "\n",
    "\n",
    "'''\n",
    "#################################################    SVM   ########################################################################\n",
    "for data_idx in range(len(combined_labels)):\n",
    "  combined_data_flat[data_idx,:] = combined_data[data_idx, :, :].flatten()\n",
    "\n",
    "print(\"Combined Data shape \",combined_data_flat.shape)\n",
    "\n",
    "###########################################################################################################################\n",
    "\n",
    "'''\n",
    "# Iterate through all data and assign each data point either to training data or testing data\n",
    "for data_idx in range(len(combined_labels)):\n",
    "    #combined_data_Ts = np.reshape(combined_data[data_idx],(1,128,128))\n",
    "\n",
    "    if test_idx_list_idx < nr_samples and data_idx == test_indices[test_idx_list_idx]:\n",
    "        testing_data[test_idx_list_idx, :, :] = combined_data_rnn[data_idx, :, :]\n",
    "        training_data_cnn[test_idx_list_idx, :, :] = combined_data_cnn[data_idx,:,:]\n",
    "        #testing_data[test_idx_list_idx, :, :] = combined_data_Ts\n",
    "        testing_labels[test_idx_list_idx] = combined_labels[data_idx]\n",
    "        test_idx_list_idx += 1\n",
    "        \n",
    "    else:\n",
    "        \n",
    "        training_data[i, :, :] = combined_data_rnn[data_idx, :, :]\n",
    "        training_data_cnn[test_idx_list_idx, :, :] = combined_data_cnn[data_idx,:,:]\n",
    "        #training_data[test_idx_list_idx, :, :] = combined_data_Ts\n",
    "        training_labels[i] = combined_labels[data_idx]\n",
    "        i += 1\n",
    "        \n",
    "\n",
    "training_data = training_data.reshape([len(training_labels), 128, 128])\n",
    "\n",
    "testing_data = testing_data.reshape([len(testing_labels),  128, 128])\n",
    "\n",
    "training_data_cnn = training_data.reshape([len(training_labels), 128, 128,1])\n",
    "        \n",
    "testing_data_cnn = testing_data.reshape([len(testing_labels),  128, 128,1])\n",
    "print('Final:')\n",
    "print(training_data.shape)\n",
    "print(training_labels.shape)\n",
    "print(testing_data.shape)\n",
    "print(testing_labels.shape)\n",
    "\n",
    "print(training_data_cnn.shape)\n",
    "\n",
    "print(testing_data_cnn.shape)\n"
   ]
  },
  {
   "cell_type": "markdown",
   "metadata": {
    "colab_type": "text",
    "id": "Ll912Ew8lUV7"
   },
   "source": [
    "# Set up the CNN architecture:"
   ]
  },
  {
   "cell_type": "code",
   "execution_count": 0,
   "metadata": {
    "colab": {
     "base_uri": "https://localhost:8080/",
     "height": 683
    },
    "colab_type": "code",
    "id": "zi2GleUwlUV7",
    "outputId": "fde7d484-eaf3-44e8-e5b7-af4dfa87d270"
   },
   "outputs": [
    {
     "name": "stdout",
     "output_type": "stream",
     "text": [
      "Model: \"model_1\"\n",
      "__________________________________________________________________________________________________\n",
      "Layer (type)                    Output Shape         Param #     Connected to                     \n",
      "==================================================================================================\n",
      "input_1 (InputLayer)            (None, 128, 128, 1)  0                                            \n",
      "__________________________________________________________________________________________________\n",
      "conv2d_1 (Conv2D)               (None, 122, 122, 64) 3200        input_1[0][0]                    \n",
      "__________________________________________________________________________________________________\n",
      "input_2 (InputLayer)            (None, 128, 128)     0                                            \n",
      "__________________________________________________________________________________________________\n",
      "max_pooling2d_1 (MaxPooling2D)  (None, 61, 61, 64)   0           conv2d_1[0][0]                   \n",
      "__________________________________________________________________________________________________\n",
      "simple_rnn_1 (SimpleRNN)        (None, 128, 128)     32896       input_2[0][0]                    \n",
      "__________________________________________________________________________________________________\n",
      "conv2d_2 (Conv2D)               (None, 57, 57, 128)  204928      max_pooling2d_1[0][0]            \n",
      "__________________________________________________________________________________________________\n",
      "simple_rnn_2 (SimpleRNN)        (None, 128, 128)     32896       simple_rnn_1[0][0]               \n",
      "__________________________________________________________________________________________________\n",
      "max_pooling2d_2 (MaxPooling2D)  (None, 28, 28, 128)  0           conv2d_2[0][0]                   \n",
      "__________________________________________________________________________________________________\n",
      "flatten_2 (Flatten)             (None, 16384)        0           simple_rnn_2[0][0]               \n",
      "__________________________________________________________________________________________________\n",
      "flatten_1 (Flatten)             (None, 100352)       0           max_pooling2d_2[0][0]            \n",
      "__________________________________________________________________________________________________\n",
      "concatenate_1 (Concatenate)     (None, 116736)       0           flatten_2[0][0]                  \n",
      "                                                                 flatten_1[0][0]                  \n",
      "__________________________________________________________________________________________________\n",
      "dense_1 (Dense)                 (None, 512)          59769344    concatenate_1[0][0]              \n",
      "__________________________________________________________________________________________________\n",
      "dropout_1 (Dropout)             (None, 512)          0           dense_1[0][0]                    \n",
      "__________________________________________________________________________________________________\n",
      "dense_2 (Dense)                 (None, 10)           5130        dropout_1[0][0]                  \n",
      "==================================================================================================\n",
      "Total params: 60,048,394\n",
      "Trainable params: 60,048,394\n",
      "Non-trainable params: 0\n",
      "__________________________________________________________________________________________________\n"
     ]
    },
    {
     "data": {
      "text/plain": [
       "\"\\nfrom sklearn.model_selection import train_test_split\\nfrom sklearn.metrics import accuracy_score\\nfrom sklearn.preprocessing import StandardScaler\\nfrom sklearn.decomposition import PCA\\nfrom sklearn.svm import SVC\\nimport pandas as pd \\n\\n\\nss = StandardScaler()\\n# run this on our feature matrix\\nbees_stand = ss.fit_transform(combined_data_flat)\\n\\npca = PCA(n_components=500)\\n# use fit_transform to run PCA on our standardized matrix\\nbees_pca = ss.fit_transform(bees_stand)\\n# look at new shape\\nprint('PCA matrix shape is: ', bees_pca.shape)\\n\\n\\nX = pd.DataFrame(bees_pca)\\ny = pd.Series(combined_labels)\\nX_train, X_test, y_train, y_test = train_test_split(X,\\n                                                    y,\\n                                                    test_size=.3,\\n                                                    random_state=1234123)\\n\\n# look at the distrubution of labels in the train set\\npd.Series(y_train).value_counts()\\n\\nsvm = SVC(kernel='linear', probability=True, random_state=42)\\n\\n# fit model\\nsvm.fit(X_train, y_train)\\n\\n\\ny_pred = svm.predict(X_test)\\n\\n# calculate accuracy\\naccuracy = accuracy_score(y_test, y_pred)\\nprint('Model accuracy is: ', accuracy)\\n\""
      ]
     },
     "execution_count": 32,
     "metadata": {
      "tags": []
     },
     "output_type": "execute_result"
    }
   ],
   "source": [
    "\n",
    "\n",
    "tf.keras.backend.clear_session()  # Destroys the current TF graph and creates a new one.\n",
    "\n",
    "dimensions = 128  # Input dimension: 128x128\n",
    "units = 128       # Dimensionality of RNN output tensor\n",
    "classes = 10      # Number of output nodes in final layers (=nr of distinct classes)\n",
    "\n",
    "# Set up model architecture in terms of its layers\n",
    "# Using Keras functional API for defining the architecture. \n",
    "\n",
    "############## CNN PART OF THE MODEL ################################\n",
    "inputs = Input(shape=(128,128,1))\n",
    "\n",
    "inputs_rnn = Input(shape=(128,128))\n",
    "\n",
    "cnn_layer_1 = Conv2D(64,(7,7),input_shape=(dimensions, dimensions, 1) ,activation='relu')(inputs)\n",
    "cnn_layer_1_out = MaxPooling2D((2,2))(cnn_layer_1)\n",
    "\n",
    "cnn_layer_2 = Conv2D(128,(5,5),activation='relu')(cnn_layer_1_out)\n",
    "cnn_layer_2_out = MaxPooling2D((2,2))(cnn_layer_2)\n",
    "\n",
    "cnn_out = Flatten()(cnn_layer_2_out)\n",
    "\n",
    "\n",
    "############### RNN PART OF THE MODEL ###################################\n",
    "\n",
    "rnn_layer_1 = SimpleRNN(units,input_shape=(None, dimensions),return_sequences=True )(inputs_rnn)\n",
    "\n",
    "rnn_layer_2 = SimpleRNN(units, return_sequences=True)(rnn_layer_1)   \n",
    "\n",
    "rnn_out = Flatten()(rnn_layer_2)                                                     \n",
    "\n",
    "################# CONCATENATE THE TWO MODELS ##############################\n",
    "\n",
    "merged_vector = keras.layers.concatenate([rnn_out, cnn_out])\n",
    "\n",
    "\n",
    "dense = Dense(512, activation='relu')(merged_vector)\n",
    "\n",
    "Dense_out = Dropout(0.2)(dense)\n",
    "\n",
    "Output = Dense(classes,activation='softmax')(Dense_out)\n",
    "\n",
    "model = Model(inputs=[inputs_rnn, inputs], outputs=Output)\n",
    "# Print summary\n",
    "\n",
    "\n",
    "# Compile model & make some design choices\n",
    "model.compile(optimizer=tf.optimizers.Adam(learning_rate=0.01, #0.001\n",
    "                                           beta_1=0.9,\n",
    "                                           beta_2=0.999,\n",
    "                                           epsilon=1e-07,\n",
    "                                           amsgrad=False,\n",
    "                                           name='Adam'\n",
    "                                           ),\n",
    "              loss='sparse_categorical_crossentropy',  # Capable of working with regularization\n",
    "              metrics=['accuracy'])\n",
    "\n",
    "model.summary()\n",
    "\n"
   ]
  },
  {
   "cell_type": "markdown",
   "metadata": {
    "colab_type": "text",
    "id": "duyizFallUV8"
   },
   "source": [
    "# Execute training:\n",
    "\n",
    "Start training process:\n",
    "    Run X times Y tensorflow-epochs and save a model as checkpoint after any Y epochs. \n",
    "    FIXME: Bit hacky solution, yet, but can be prettyfied.\n",
    "    \n",
    "IMPORTANT: 'accuracy'     == accuracy achieved during training on training data;  * the UN-important measure\n",
    "           'val_accuracy' == accuracy achieved on TEST data AFTER training epoch; * the important measure"
   ]
  },
  {
   "cell_type": "code",
   "execution_count": 33,
   "metadata": {
    "colab": {
     "base_uri": "https://localhost:8080/",
     "height": 681
    },
    "colab_type": "code",
    "id": "ublvTPD4lUV9",
    "outputId": "b07ce677-a659-4724-c539-3b6945cac8fe"
   },
   "outputs": [
    {
     "name": "stdout",
     "output_type": "stream",
     "text": [
      "Completed epochs so far: 0\n",
      "Train on 1600 samples, validate on 400 samples\n",
      "Epoch 1/10\n",
      "1600/1600 [==============================] - 232s 145ms/step - loss: 93.5311 - accuracy: 0.0975 - val_loss: 2.3015 - val_accuracy: 0.0900\n",
      "Epoch 2/10\n",
      "1600/1600 [==============================] - 230s 144ms/step - loss: 2.3115 - accuracy: 0.1031 - val_loss: 2.3029 - val_accuracy: 0.0875\n",
      "Epoch 3/10\n",
      "1600/1600 [==============================] - 231s 144ms/step - loss: 2.3033 - accuracy: 0.0956 - val_loss: 2.3042 - val_accuracy: 0.0875\n",
      "Epoch 4/10\n",
      "1600/1600 [==============================] - 231s 144ms/step - loss: 2.3034 - accuracy: 0.1031 - val_loss: 2.3053 - val_accuracy: 0.0875\n",
      "Epoch 5/10\n",
      "1600/1600 [==============================] - 230s 144ms/step - loss: 2.3033 - accuracy: 0.0887 - val_loss: 2.3064 - val_accuracy: 0.0875\n",
      "Epoch 6/10\n",
      "1600/1600 [==============================] - 230s 144ms/step - loss: 2.3034 - accuracy: 0.0862 - val_loss: 2.3067 - val_accuracy: 0.0875\n",
      "Epoch 7/10\n",
      "1600/1600 [==============================] - 231s 144ms/step - loss: 2.3038 - accuracy: 0.0900 - val_loss: 2.3068 - val_accuracy: 0.0875\n",
      "Epoch 8/10\n",
      " 992/1600 [=================>............] - ETA: 1:22 - loss: 2.3028 - accuracy: 0.0938"
     ]
    },
    {
     "ename": "KeyboardInterrupt",
     "evalue": "ignored",
     "output_type": "error",
     "traceback": [
      "\u001b[0;31m---------------------------------------------------------------------------\u001b[0m",
      "\u001b[0;31mKeyboardInterrupt\u001b[0m                         Traceback (most recent call last)",
      "\u001b[0;32m<ipython-input-33-2c07b6bde18f>\u001b[0m in \u001b[0;36m<module>\u001b[0;34m()\u001b[0m\n\u001b[1;32m     32\u001b[0m     history = model.fit([training_data,training_data_cnn], training_labels,\n\u001b[1;32m     33\u001b[0m                         \u001b[0mepochs\u001b[0m\u001b[0;34m=\u001b[0m\u001b[0meps\u001b[0m\u001b[0;34m,\u001b[0m\u001b[0;34m\u001b[0m\u001b[0;34m\u001b[0m\u001b[0m\n\u001b[0;32m---> 34\u001b[0;31m                         validation_data=([testing_data,testing_data_cnn], testing_labels))\n\u001b[0m\u001b[1;32m     35\u001b[0m \u001b[0;34m\u001b[0m\u001b[0m\n\u001b[1;32m     36\u001b[0m     \u001b[0;31m# Get string representation of performed number of training epochs & new model name\u001b[0m\u001b[0;34m\u001b[0m\u001b[0;34m\u001b[0m\u001b[0;34m\u001b[0m\u001b[0m\n",
      "\u001b[0;32m/usr/local/lib/python3.6/dist-packages/keras/engine/training.py\u001b[0m in \u001b[0;36mfit\u001b[0;34m(self, x, y, batch_size, epochs, verbose, callbacks, validation_split, validation_data, shuffle, class_weight, sample_weight, initial_epoch, steps_per_epoch, validation_steps, validation_freq, max_queue_size, workers, use_multiprocessing, **kwargs)\u001b[0m\n\u001b[1;32m   1237\u001b[0m                                         \u001b[0msteps_per_epoch\u001b[0m\u001b[0;34m=\u001b[0m\u001b[0msteps_per_epoch\u001b[0m\u001b[0;34m,\u001b[0m\u001b[0;34m\u001b[0m\u001b[0;34m\u001b[0m\u001b[0m\n\u001b[1;32m   1238\u001b[0m                                         \u001b[0mvalidation_steps\u001b[0m\u001b[0;34m=\u001b[0m\u001b[0mvalidation_steps\u001b[0m\u001b[0;34m,\u001b[0m\u001b[0;34m\u001b[0m\u001b[0;34m\u001b[0m\u001b[0m\n\u001b[0;32m-> 1239\u001b[0;31m                                         validation_freq=validation_freq)\n\u001b[0m\u001b[1;32m   1240\u001b[0m \u001b[0;34m\u001b[0m\u001b[0m\n\u001b[1;32m   1241\u001b[0m     def evaluate(self,\n",
      "\u001b[0;32m/usr/local/lib/python3.6/dist-packages/keras/engine/training_arrays.py\u001b[0m in \u001b[0;36mfit_loop\u001b[0;34m(model, fit_function, fit_inputs, out_labels, batch_size, epochs, verbose, callbacks, val_function, val_inputs, shuffle, initial_epoch, steps_per_epoch, validation_steps, validation_freq)\u001b[0m\n\u001b[1;32m    194\u001b[0m                     \u001b[0mins_batch\u001b[0m\u001b[0;34m[\u001b[0m\u001b[0mi\u001b[0m\u001b[0;34m]\u001b[0m \u001b[0;34m=\u001b[0m \u001b[0mins_batch\u001b[0m\u001b[0;34m[\u001b[0m\u001b[0mi\u001b[0m\u001b[0;34m]\u001b[0m\u001b[0;34m.\u001b[0m\u001b[0mtoarray\u001b[0m\u001b[0;34m(\u001b[0m\u001b[0;34m)\u001b[0m\u001b[0;34m\u001b[0m\u001b[0;34m\u001b[0m\u001b[0m\n\u001b[1;32m    195\u001b[0m \u001b[0;34m\u001b[0m\u001b[0m\n\u001b[0;32m--> 196\u001b[0;31m                 \u001b[0mouts\u001b[0m \u001b[0;34m=\u001b[0m \u001b[0mfit_function\u001b[0m\u001b[0;34m(\u001b[0m\u001b[0mins_batch\u001b[0m\u001b[0;34m)\u001b[0m\u001b[0;34m\u001b[0m\u001b[0;34m\u001b[0m\u001b[0m\n\u001b[0m\u001b[1;32m    197\u001b[0m                 \u001b[0mouts\u001b[0m \u001b[0;34m=\u001b[0m \u001b[0mto_list\u001b[0m\u001b[0;34m(\u001b[0m\u001b[0mouts\u001b[0m\u001b[0;34m)\u001b[0m\u001b[0;34m\u001b[0m\u001b[0;34m\u001b[0m\u001b[0m\n\u001b[1;32m    198\u001b[0m                 \u001b[0;32mfor\u001b[0m \u001b[0ml\u001b[0m\u001b[0;34m,\u001b[0m \u001b[0mo\u001b[0m \u001b[0;32min\u001b[0m \u001b[0mzip\u001b[0m\u001b[0;34m(\u001b[0m\u001b[0mout_labels\u001b[0m\u001b[0;34m,\u001b[0m \u001b[0mouts\u001b[0m\u001b[0;34m)\u001b[0m\u001b[0;34m:\u001b[0m\u001b[0;34m\u001b[0m\u001b[0;34m\u001b[0m\u001b[0m\n",
      "\u001b[0;32m/usr/local/lib/python3.6/dist-packages/tensorflow_core/python/keras/backend.py\u001b[0m in \u001b[0;36m__call__\u001b[0;34m(self, inputs)\u001b[0m\n\u001b[1;32m   3738\u001b[0m         \u001b[0mvalue\u001b[0m \u001b[0;34m=\u001b[0m \u001b[0mmath_ops\u001b[0m\u001b[0;34m.\u001b[0m\u001b[0mcast\u001b[0m\u001b[0;34m(\u001b[0m\u001b[0mvalue\u001b[0m\u001b[0;34m,\u001b[0m \u001b[0mtensor\u001b[0m\u001b[0;34m.\u001b[0m\u001b[0mdtype\u001b[0m\u001b[0;34m)\u001b[0m\u001b[0;34m\u001b[0m\u001b[0;34m\u001b[0m\u001b[0m\n\u001b[1;32m   3739\u001b[0m       \u001b[0mconverted_inputs\u001b[0m\u001b[0;34m.\u001b[0m\u001b[0mappend\u001b[0m\u001b[0;34m(\u001b[0m\u001b[0mvalue\u001b[0m\u001b[0;34m)\u001b[0m\u001b[0;34m\u001b[0m\u001b[0;34m\u001b[0m\u001b[0m\n\u001b[0;32m-> 3740\u001b[0;31m     \u001b[0moutputs\u001b[0m \u001b[0;34m=\u001b[0m \u001b[0mself\u001b[0m\u001b[0;34m.\u001b[0m\u001b[0m_graph_fn\u001b[0m\u001b[0;34m(\u001b[0m\u001b[0;34m*\u001b[0m\u001b[0mconverted_inputs\u001b[0m\u001b[0;34m)\u001b[0m\u001b[0;34m\u001b[0m\u001b[0;34m\u001b[0m\u001b[0m\n\u001b[0m\u001b[1;32m   3741\u001b[0m \u001b[0;34m\u001b[0m\u001b[0m\n\u001b[1;32m   3742\u001b[0m     \u001b[0;31m# EagerTensor.numpy() will often make a copy to ensure memory safety.\u001b[0m\u001b[0;34m\u001b[0m\u001b[0;34m\u001b[0m\u001b[0;34m\u001b[0m\u001b[0m\n",
      "\u001b[0;32m/usr/local/lib/python3.6/dist-packages/tensorflow_core/python/eager/function.py\u001b[0m in \u001b[0;36m__call__\u001b[0;34m(self, *args, **kwargs)\u001b[0m\n\u001b[1;32m   1079\u001b[0m       \u001b[0mTypeError\u001b[0m\u001b[0;34m:\u001b[0m \u001b[0mFor\u001b[0m \u001b[0minvalid\u001b[0m \u001b[0mpositional\u001b[0m\u001b[0;34m/\u001b[0m\u001b[0mkeyword\u001b[0m \u001b[0margument\u001b[0m \u001b[0mcombinations\u001b[0m\u001b[0;34m.\u001b[0m\u001b[0;34m\u001b[0m\u001b[0;34m\u001b[0m\u001b[0m\n\u001b[1;32m   1080\u001b[0m     \"\"\"\n\u001b[0;32m-> 1081\u001b[0;31m     \u001b[0;32mreturn\u001b[0m \u001b[0mself\u001b[0m\u001b[0;34m.\u001b[0m\u001b[0m_call_impl\u001b[0m\u001b[0;34m(\u001b[0m\u001b[0margs\u001b[0m\u001b[0;34m,\u001b[0m \u001b[0mkwargs\u001b[0m\u001b[0;34m)\u001b[0m\u001b[0;34m\u001b[0m\u001b[0;34m\u001b[0m\u001b[0m\n\u001b[0m\u001b[1;32m   1082\u001b[0m \u001b[0;34m\u001b[0m\u001b[0m\n\u001b[1;32m   1083\u001b[0m   \u001b[0;32mdef\u001b[0m \u001b[0m_call_impl\u001b[0m\u001b[0;34m(\u001b[0m\u001b[0mself\u001b[0m\u001b[0;34m,\u001b[0m \u001b[0margs\u001b[0m\u001b[0;34m,\u001b[0m \u001b[0mkwargs\u001b[0m\u001b[0;34m,\u001b[0m \u001b[0mcancellation_manager\u001b[0m\u001b[0;34m=\u001b[0m\u001b[0;32mNone\u001b[0m\u001b[0;34m)\u001b[0m\u001b[0;34m:\u001b[0m\u001b[0;34m\u001b[0m\u001b[0;34m\u001b[0m\u001b[0m\n",
      "\u001b[0;32m/usr/local/lib/python3.6/dist-packages/tensorflow_core/python/eager/function.py\u001b[0m in \u001b[0;36m_call_impl\u001b[0;34m(self, args, kwargs, cancellation_manager)\u001b[0m\n\u001b[1;32m   1119\u001b[0m       raise TypeError(\"Keyword arguments {} unknown. Expected {}.\".format(\n\u001b[1;32m   1120\u001b[0m           list(kwargs.keys()), list(self._arg_keywords)))\n\u001b[0;32m-> 1121\u001b[0;31m     \u001b[0;32mreturn\u001b[0m \u001b[0mself\u001b[0m\u001b[0;34m.\u001b[0m\u001b[0m_call_flat\u001b[0m\u001b[0;34m(\u001b[0m\u001b[0margs\u001b[0m\u001b[0;34m,\u001b[0m \u001b[0mself\u001b[0m\u001b[0;34m.\u001b[0m\u001b[0mcaptured_inputs\u001b[0m\u001b[0;34m,\u001b[0m \u001b[0mcancellation_manager\u001b[0m\u001b[0;34m)\u001b[0m\u001b[0;34m\u001b[0m\u001b[0;34m\u001b[0m\u001b[0m\n\u001b[0m\u001b[1;32m   1122\u001b[0m \u001b[0;34m\u001b[0m\u001b[0m\n\u001b[1;32m   1123\u001b[0m   \u001b[0;32mdef\u001b[0m \u001b[0m_filtered_call\u001b[0m\u001b[0;34m(\u001b[0m\u001b[0mself\u001b[0m\u001b[0;34m,\u001b[0m \u001b[0margs\u001b[0m\u001b[0;34m,\u001b[0m \u001b[0mkwargs\u001b[0m\u001b[0;34m)\u001b[0m\u001b[0;34m:\u001b[0m\u001b[0;34m\u001b[0m\u001b[0;34m\u001b[0m\u001b[0m\n",
      "\u001b[0;32m/usr/local/lib/python3.6/dist-packages/tensorflow_core/python/eager/function.py\u001b[0m in \u001b[0;36m_call_flat\u001b[0;34m(self, args, captured_inputs, cancellation_manager)\u001b[0m\n\u001b[1;32m   1222\u001b[0m     \u001b[0;32mif\u001b[0m \u001b[0mexecuting_eagerly\u001b[0m\u001b[0;34m:\u001b[0m\u001b[0;34m\u001b[0m\u001b[0;34m\u001b[0m\u001b[0m\n\u001b[1;32m   1223\u001b[0m       flat_outputs = forward_function.call(\n\u001b[0;32m-> 1224\u001b[0;31m           ctx, args, cancellation_manager=cancellation_manager)\n\u001b[0m\u001b[1;32m   1225\u001b[0m     \u001b[0;32melse\u001b[0m\u001b[0;34m:\u001b[0m\u001b[0;34m\u001b[0m\u001b[0;34m\u001b[0m\u001b[0m\n\u001b[1;32m   1226\u001b[0m       \u001b[0mgradient_name\u001b[0m \u001b[0;34m=\u001b[0m \u001b[0mself\u001b[0m\u001b[0;34m.\u001b[0m\u001b[0m_delayed_rewrite_functions\u001b[0m\u001b[0;34m.\u001b[0m\u001b[0mregister\u001b[0m\u001b[0;34m(\u001b[0m\u001b[0;34m)\u001b[0m\u001b[0;34m\u001b[0m\u001b[0;34m\u001b[0m\u001b[0m\n",
      "\u001b[0;32m/usr/local/lib/python3.6/dist-packages/tensorflow_core/python/eager/function.py\u001b[0m in \u001b[0;36mcall\u001b[0;34m(self, ctx, args, cancellation_manager)\u001b[0m\n\u001b[1;32m    509\u001b[0m               \u001b[0minputs\u001b[0m\u001b[0;34m=\u001b[0m\u001b[0margs\u001b[0m\u001b[0;34m,\u001b[0m\u001b[0;34m\u001b[0m\u001b[0;34m\u001b[0m\u001b[0m\n\u001b[1;32m    510\u001b[0m               \u001b[0mattrs\u001b[0m\u001b[0;34m=\u001b[0m\u001b[0;34m(\u001b[0m\u001b[0;34m\"executor_type\"\u001b[0m\u001b[0;34m,\u001b[0m \u001b[0mexecutor_type\u001b[0m\u001b[0;34m,\u001b[0m \u001b[0;34m\"config_proto\"\u001b[0m\u001b[0;34m,\u001b[0m \u001b[0mconfig\u001b[0m\u001b[0;34m)\u001b[0m\u001b[0;34m,\u001b[0m\u001b[0;34m\u001b[0m\u001b[0;34m\u001b[0m\u001b[0m\n\u001b[0;32m--> 511\u001b[0;31m               ctx=ctx)\n\u001b[0m\u001b[1;32m    512\u001b[0m         \u001b[0;32melse\u001b[0m\u001b[0;34m:\u001b[0m\u001b[0;34m\u001b[0m\u001b[0;34m\u001b[0m\u001b[0m\n\u001b[1;32m    513\u001b[0m           outputs = execute.execute_with_cancellation(\n",
      "\u001b[0;32m/usr/local/lib/python3.6/dist-packages/tensorflow_core/python/eager/execute.py\u001b[0m in \u001b[0;36mquick_execute\u001b[0;34m(op_name, num_outputs, inputs, attrs, ctx, name)\u001b[0m\n\u001b[1;32m     59\u001b[0m     tensors = pywrap_tensorflow.TFE_Py_Execute(ctx._handle, device_name,\n\u001b[1;32m     60\u001b[0m                                                \u001b[0mop_name\u001b[0m\u001b[0;34m,\u001b[0m \u001b[0minputs\u001b[0m\u001b[0;34m,\u001b[0m \u001b[0mattrs\u001b[0m\u001b[0;34m,\u001b[0m\u001b[0;34m\u001b[0m\u001b[0;34m\u001b[0m\u001b[0m\n\u001b[0;32m---> 61\u001b[0;31m                                                num_outputs)\n\u001b[0m\u001b[1;32m     62\u001b[0m   \u001b[0;32mexcept\u001b[0m \u001b[0mcore\u001b[0m\u001b[0;34m.\u001b[0m\u001b[0m_NotOkStatusException\u001b[0m \u001b[0;32mas\u001b[0m \u001b[0me\u001b[0m\u001b[0;34m:\u001b[0m\u001b[0;34m\u001b[0m\u001b[0;34m\u001b[0m\u001b[0m\n\u001b[1;32m     63\u001b[0m     \u001b[0;32mif\u001b[0m \u001b[0mname\u001b[0m \u001b[0;32mis\u001b[0m \u001b[0;32mnot\u001b[0m \u001b[0;32mNone\u001b[0m\u001b[0;34m:\u001b[0m\u001b[0;34m\u001b[0m\u001b[0;34m\u001b[0m\u001b[0m\n",
      "\u001b[0;31mKeyboardInterrupt\u001b[0m: "
     ]
    }
   ],
   "source": [
    "# Set up folder for data gathering during training process\n",
    "now = datetime.now()\n",
    "TIME_STAMP = now.strftime(\"_%Y_%d_%m__%H_%M_%S__%f\")\n",
    "MODEL_ID = 'Model_' + TIME_STAMP + '/'\n",
    "path = 'TrainingRun/' + MODEL_ID\n",
    "\n",
    "if not os.path.exists(path):\n",
    "    os.makedirs(path)\n",
    "\n",
    "# Set up documentation (csv doc) of training progress\n",
    "with open(path+'training_progress.csv', 'a', newline='') as file:\n",
    "    writer = csv.writer(file)\n",
    "    writer.writerow([\"epoch\", \"loss\", \"accuracy\", \"val_loss\", \"val_accuracy\", \"sparse_categorical_crossentropy\"])\n",
    "    file.close()\n",
    "\n",
    "\n",
    "\n",
    "\n",
    "# Run training\n",
    "repetitions = 10    # How many repetitions of given nr of epochs\n",
    "eps = 10            # tf-Epochs\n",
    "accuracy = 0\n",
    "min_acc = 0.85\n",
    "\n",
    "for i in range(repetitions):\n",
    "    # Live terminal update\n",
    "    print('Completed epochs so far: ' + str(i*eps))\n",
    "    \n",
    "    \n",
    "    #model = tf.keras.models.load_model(path+name+'.h5')  # Reload model\n",
    "\n",
    "    # Perform x epochs of training\n",
    "    history = model.fit([training_data,training_data_cnn], training_labels,\n",
    "                        epochs=eps,\n",
    "                        validation_data=([testing_data,testing_data_cnn], testing_labels))\n",
    "    \n",
    "    # Get string representation of performed number of training epochs & new model name\n",
    "    epoch = str((i+1)*eps)\n",
    "    name = 'cnn_model_'+epoch+'_acc_'+str(history.history['val_accuracy'])\n",
    "    \n",
    "    # Save the entire model as a checkpoint and/or final model to a HDF5 file.\n",
    "    #model.save(path+name+'.h5')\n",
    "    \n",
    "    # Record training progress\n",
    "    with open(path+'training_progress.csv', 'a', newline='') as file:\n",
    "        writer = csv.writer(file)\n",
    "        writer.writerow([epoch,\n",
    "                         history.history[\"loss\"][0], \n",
    "                         history.history[\"accuracy\"][0], \n",
    "                         history.history[\"val_loss\"][0], \n",
    "                         history.history[\"val_accuracy\"][0],\n",
    "                         history.history[\"sparse_categorical_crossentropy\"][0]\n",
    "                         ])\n",
    "        file.close()\n",
    "\n",
    "    if accuracy >= min_acc and history.history['val_accuracy'][0] < accuracy:\n",
    "        # Drop in accuracy on evaluation data. Overfitting?\n",
    "        break\n",
    "    else:\n",
    "        accuracy = history.history['val_accuracy'][0]\n",
    "print('Done.')"
   ]
  }
 ],
 "metadata": {
  "colab": {
   "name": "Baseline_CNN_Music_Genre_Classifier.ipynb",
   "provenance": [],
   "toc_visible": true
  },
  "kernelspec": {
   "display_name": "Python 3",
   "language": "python",
   "name": "python3"
  },
  "language_info": {
   "codemirror_mode": {
    "name": "ipython",
    "version": 3
   },
   "file_extension": ".py",
   "mimetype": "text/x-python",
   "name": "python",
   "nbconvert_exporter": "python",
   "pygments_lexer": "ipython3",
   "version": "3.6.9"
  }
 },
 "nbformat": 4,
 "nbformat_minor": 1
}
