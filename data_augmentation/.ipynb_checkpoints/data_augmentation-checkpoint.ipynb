{
 "cells": [
  {
   "cell_type": "markdown",
   "metadata": {},
   "source": [
    "# 1. Setup lbraries"
   ]
  },
  {
   "cell_type": "code",
   "execution_count": null,
   "metadata": {},
   "outputs": [],
   "source": [
    "import librosa\n",
    "import os\n",
    "import numpy as np\n",
    "import glob\n",
    "from glob import iglob\n",
    "import matplotlib.pyplot as plt\n",
    "import librosa.display\n",
    "import random"
   ]
  },
  {
   "cell_type": "markdown",
   "metadata": {},
   "source": [
    "# 2. Define augmentation functions and path to folders"
   ]
  },
  {
   "cell_type": "code",
   "execution_count": null,
   "metadata": {},
   "outputs": [],
   "source": [
    "n_songs = 100\n",
    "rootdir_glob = \"../data/genres/**\"\n",
    "save_path = \"../data/genres_aug/\"\n",
    "count = 0\n",
    "def manipulate(data, noise_factor):\n",
    "    noise = np.random.randn(len(data))\n",
    "    augmented_data = data + noise_factor * noise\n",
    "    # Cast back to same data type\n",
    "    augmented_data = augmented_data.astype(type(data[0]))\n",
    "    return augmented_data\n",
    "\n",
    "def shift(data, sampling_rate, shift_max, shift_direction):\n",
    "    shift = sampling_rate*shift_max\n",
    "    shift_data = [0]*shift\n",
    "    if shift_direction == 'right':\n",
    "        shift = -shift\n",
    "    elif shift_direction == 'both':\n",
    "        direction = np.random.randint(0, 2)\n",
    "        if direction == 1:\n",
    "            shift = -shift\n",
    "    augmented_data = np.roll(data, shift)\n",
    "    # Set to silence for heading/ tailing\n",
    "    if shift > 0:\n",
    "        augmented_data=np.concatenate((augmented_data, shift_data), axis=0)\n",
    "    else:\n",
    "        augmented_data = np.concatenate((shift_data,augmented_data),axis=0)\n",
    "    return augmented_data\n",
    "\n",
    "def pitch_shift(data, sampling_rate, pitch_factor):\n",
    "    return librosa.effects.pitch_shift(data, sampling_rate, pitch_factor)\n",
    "\n",
    "def speed_change(data, speed_factor,sampleRate):\n",
    "    data = librosa.effects.time_stretch(data, speed_factor)\n",
    "    data = shift(data,sampleRate,5,'both') #Shifting the song to make it 30 secs long.\n",
    "    return data"
   ]
  },
  {
   "cell_type": "markdown",
   "metadata": {},
   "source": [
    "# 3. Augment data"
   ]
  },
  {
   "cell_type": "markdown",
   "metadata": {},
   "source": [
    "Augmentation chosen:\n",
    "    - add noise\n",
    "    - add more noise\n",
    "    - change pitch\n",
    "    - speed up\n",
    "    - speed down\n",
    "    \n",
    "After augmenting, the dataset will be 6 times larger"
   ]
  },
  {
   "cell_type": "code",
   "execution_count": null,
   "metadata": {},
   "outputs": [],
   "source": [
    "for filename in glob.iglob(rootdir_glob, recursive=True):\n",
    "    if os.path.isfile(filename):\n",
    "        x, sampleRate = librosa.load(filename, duration=30)\n",
    "        save_folder = filename.split('\\\\')[1] #Get the genres folder\n",
    "        name = filename.split('\\\\')[2]\n",
    "        \n",
    "        # add noise\n",
    "        noise_factor = np.random.normal(0,2)/100\n",
    "        augment_data = manipulate(x,noise_factor)\n",
    "        save_fileName = save_path  + save_folder + \"/\" + \"aug1_\" + name\n",
    "        librosa.output.write_wav(save_fileName , augment_data, sampleRate)\n",
    "        \n",
    "        # add MORE noise!\n",
    "        noise_factor = np.random.normal(2,4)/100\n",
    "        augment_data = manipulate(x,noise_factor)\n",
    "        save_fileName = save_path  + save_folder + \"/\" + \"aug2\" + name\n",
    "        librosa.output.write_wav(save_fileName , augment_data, sampleRate)\n",
    "\n",
    "        #change pitch a bit\n",
    "        pitch_factor = np.random.normal(0,2)/100\n",
    "        augment_data = pitch_shift(x,sampleRate,pitch_factor)\n",
    "        save_fileName = save_path  + save_folder + \"/\" + \"aug3\" + name\n",
    "        librosa.output.write_wav(save_fileName, augment_data, sampleRate)\n",
    "\n",
    "        # speed up song\n",
    "        augment_data = speed_change(x,1.1,sampleRate)\n",
    "        save_fileName = save_path  + save_folder + \"/\" + \"aug4\" + name\n",
    "        librosa.output.write_wav(save_fileName, augment_data, sampleRate)\n",
    "        \n",
    "        # slow down song\n",
    "        augment_data = speed_change(x,0.9,sampleRate)\n",
    "        save_fileName = save_path  + save_folder + \"/\" + \"aug5\" + name\n",
    "        librosa.output.write_wav(save_fileName, augment_data, sampleRate)\n",
    "\n",
    "\n",
    "        count = count + 1\n",
    "        if(count % 10 == 0):\n",
    "            print(\"Completed \",count,\" songs Augmentation\")\n",
    "print(\"Done...\")\n"
   ]
  },
  {
   "cell_type": "code",
   "execution_count": null,
   "metadata": {},
   "outputs": [],
   "source": []
  }
 ],
 "metadata": {
  "kernelspec": {
   "display_name": "Python 3",
   "language": "python",
   "name": "python3"
  },
  "language_info": {
   "codemirror_mode": {
    "name": "ipython",
    "version": 3
   },
   "file_extension": ".py",
   "mimetype": "text/x-python",
   "name": "python",
   "nbconvert_exporter": "python",
   "pygments_lexer": "ipython3",
   "version": "3.7.4"
  }
 },
 "nbformat": 4,
 "nbformat_minor": 2
}
